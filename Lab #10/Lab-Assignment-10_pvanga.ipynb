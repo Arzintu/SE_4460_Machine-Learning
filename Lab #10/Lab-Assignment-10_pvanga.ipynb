{
  "nbformat": 4,
  "nbformat_minor": 0,
  "metadata": {
    "colab": {
      "name": "Week_10_Assignment_Blank.ipynb",
      "provenance": [],
      "collapsed_sections": []
    },
    "kernelspec": {
      "display_name": "Python 3",
      "language": "python",
      "name": "python3"
    },
    "language_info": {
      "codemirror_mode": {
        "name": "ipython",
        "version": 3
      },
      "file_extension": ".py",
      "mimetype": "text/x-python",
      "name": "python",
      "nbconvert_exporter": "python",
      "pygments_lexer": "ipython3",
      "version": "3.8.5"
    },
    "pycharm": {
      "stem_cell": {
        "cell_type": "raw",
        "source": [],
        "metadata": {
          "collapsed": false
        }
      }
    }
  },
  "cells": [
    {
      "cell_type": "markdown",
      "metadata": {
        "id": "o1-5QShEYuNF"
      },
      "source": [
        "# Week 10 Assignment\n",
        "\n",
        "In this week's lecture lab we examined two dimensionality reduction techniques, Principal Component Analysis (PCA) and the Autoencoder. In this assignment we will explore additional functionalities of the Autoencoder and demonstrate its incredible versatility."
      ]
    },
    {
      "cell_type": "markdown",
      "metadata": {
        "id": "O45yP5FVZKyN"
      },
      "source": [
        "# Part A - Imports and Data Prep\n",
        "\n",
        "All required imports have been made for you."
      ]
    },
    {
      "cell_type": "code",
      "metadata": {
        "id": "nTkPhrkjZULm"
      },
      "source": [
        "# Import tensorflow - \n",
        "# You can use: \n",
        "# pip install tensorflow\n",
        "# to install these packages\n",
        "# make sure that you have seaborn version 0.11.0 installed \n",
        "import pandas as pd\n",
        "import numpy as np\n",
        "import matplotlib.pyplot as plt\n",
        "import seaborn as sns\n",
        "import torch\n",
        "import torch.nn as nn\n",
        "import torch.nn.functional as F\n",
        "from numpy.random import normal\n",
        "\n",
        "from torchvision import transforms\n",
        "from torchvision.datasets import MNIST\n",
        "\n",
        "from torch.utils.data import DataLoader\n",
        "from tensorflow.keras.datasets.mnist import load_data\n",
        "import random\n",
        "\n",
        "from IPython.display import clear_output\n",
        "from matplotlib import pyplot as plt\n",
        "\n",
        "random.seed(100)\n",
        "plt.style.use('seaborn')\n",
        "from torch.utils.data import TensorDataset"
      ],
      "execution_count": 3,
      "outputs": []
    },
    {
      "cell_type": "markdown",
      "metadata": {
        "id": "9JTxQnb_Zgz1"
      },
      "source": [
        "# Part B - Noise Reduction\n",
        "\n",
        "The autoencoder serves many purposes. You have already seen its ability to perform dimensionality reduction and now you will see how it can perform noise reduction. \n",
        "\n",
        "# Q1 List an additional functionality or potential use of an autoencoder (that has not been mentioned yet) in the space provided below. (5 marks)"
      ]
    },
    {
      "cell_type": "markdown",
      "metadata": {
        "id": "YEtUYpOfaED-"
      },
      "source": [
        "Q1 Answer:\n",
        "\n",
        "Autoencoders consist of 4 different components \n",
        "\n",
        "First an endcoder is used to reduced the input dimensionality by compressing the input data into an encoded representation..\n",
        "\n",
        "Next, a bottleneck id used which is a layer than contains the compressed input data in the lowest possible dimensions of the input data.\n",
        "\n",
        "A decoder is used to reconstruct the data form the encoded representation.\n",
        "\n",
        "Lastly, the reconstruction loss measures the performance of the decoder by comparing the output to the input. \n",
        "\n",
        "Autoencoders are capable of learning nonlinear relations unlike PCA.\n",
        "\n",
        "Autoencoders have many uses. They can be used for anomaly detection. An example of this is in an industrial setting for quality assurance purposes. It could detect if there is a defect in a car part.\n",
        "\n",
        "Another example is image engeration. A model could be given images of faces or scenories and can construct new images based on the inputs. This known as a variational autoencoder.\n",
        "\n",
        "Lastly, autoencoders can be used to de-noise images which is the topic of this week's lab\n",
        "\n",
        "\n",
        "\n",
        "\n"
      ]
    },
    {
      "cell_type": "markdown",
      "metadata": {
        "id": "gkX3eHNTaHmP"
      },
      "source": [
        "# Q2 (30 marks)\n",
        "To illustrate the ability of our autoencoder to reduce noise we will be using image data. Use the `load_data` function with the path attribute set to \"mnist.npz\". (Check documentation: https://www.tensorflow.org/api_docs/python/tf/keras/datasets/mnist/load_data) You only care about the image data so you need to extract the training images from the imported data and get rid of the labels. Ensure your pixel values are between 0 and 1 and save this to the variable X_2\n",
        "\n",
        "To simulate a noisy image, we will be adding white Gaussian noise to the data. To do this, you will need to use the normal function with a mean of 0 and a variance of 0.3. Cycle through the images in X_2, add noise, and save to a variable called X_2_noise.\n",
        "\n",
        "Display the first image in X_2 and the first image in X_2_noise to see the effect of the noise you added. You can use the `sns.imshow` function for this."
      ]
    },
    {
      "cell_type": "code",
      "metadata": {
        "id": "OqaX0j2DZBLV",
        "colab": {
          "base_uri": "https://localhost:8080/"
        },
        "outputId": "a926fe3c-307a-433a-962a-9ac29e5c1291"
      },
      "source": [
        "x_2, _ = load_data(path='mnist.npz')\n",
        "x_2 = x_2[0]/255\n",
        "\n",
        "mean = 0\n",
        "variance = 0.3\n",
        "sigma = variance**0.5\n",
        "gauss = np.random.normal(mean, sigma, x_2.shape)\n",
        "x_2_noise = x_2 + gauss\n",
        "\n",
        "x_2_flatten = x_2.reshape(len(x_2), -1)\n",
        "x_2_flatten_noise = x_2_noise.reshape(len(x_2_noise),-1)\n",
        "\n",
        "x_2_flatten_tensor = torch.FloatTensor(x_2_flatten)\n",
        "x_2_flatten_noise_tensor = torch.FloatTensor(x_2_flatten_noise)\n"
      ],
      "execution_count": 4,
      "outputs": [
        {
          "output_type": "stream",
          "text": [
            "Downloading data from https://storage.googleapis.com/tensorflow/tf-keras-datasets/mnist.npz\n",
            "11493376/11490434 [==============================] - 0s 0us/step\n"
          ],
          "name": "stdout"
        }
      ]
    },
    {
      "cell_type": "code",
      "metadata": {
        "colab": {
          "base_uri": "https://localhost:8080/",
          "height": 364
        },
        "id": "u1eZXFdWk0vt",
        "outputId": "733d8f91-1b9a-4457-eefd-745fba0697f0"
      },
      "source": [
        "plt.imshow(x_2[0])"
      ],
      "execution_count": null,
      "outputs": [
        {
          "output_type": "execute_result",
          "data": {
            "text/plain": [
              "<matplotlib.image.AxesImage at 0x7ff00da7b470>"
            ]
          },
          "metadata": {
            "tags": []
          },
          "execution_count": 10
        },
        {
          "output_type": "display_data",
          "data": {
            "image/png": "[encoded data removed]",
            "text/plain": [
              "<Figure size 576x396 with 1 Axes>"
            ]
          },
          "metadata": {
            "tags": []
          }
        }
      ]
    },
    {
      "cell_type": "code",
      "metadata": {
        "colab": {
          "base_uri": "https://localhost:8080/",
          "height": 364
        },
        "id": "ZYfmGRi_lPuH",
        "outputId": "30d9c17c-8a5a-444f-99bb-6e89417394c7"
      },
      "source": [
        "plt.imshow(x_2_noise[0])"
      ],
      "execution_count": null,
      "outputs": [
        {
          "output_type": "execute_result",
          "data": {
            "text/plain": [
              "<matplotlib.image.AxesImage at 0x7ff00683b710>"
            ]
          },
          "metadata": {
            "tags": []
          },
          "execution_count": 12
        },
        {
          "output_type": "display_data",
          "data": {
            "image/png": "[encoded data removed]",
            "text/plain": [
              "<Figure size 576x396 with 1 Axes>"
            ]
          },
          "metadata": {
            "tags": []
          }
        }
      ]
    },
    {
      "cell_type": "markdown",
      "metadata": {
        "id": "CmqppnNranRa"
      },
      "source": [
        "# Q3 Create an autoencoder to de-noise the image. You are responsible for selecting an appropriate design for the autoencoder. To speed up your training, for each iteration, train on a small subset of the data. (40 marks)\n",
        "\n",
        "In this setting, it is useful to train a slight variation on the autoencoder that takes a noisy image as input and has the original (non-noisy) image as its target. You can then use this model to de-noise future images. Note that you will have to take care of re-shaping the images into tensors as you use the `from_numpy` function. "
      ]
    },
    {
      "cell_type": "code",
      "metadata": {
        "colab": {
          "base_uri": "https://localhost:8080/",
          "height": 357
        },
        "id": "Xw4G5bBLZBLV",
        "outputId": "3a173346-8d8f-4a57-a712-2e7dce55498e"
      },
      "source": [
        "# From last assignment\n",
        "def live_plot(loss, figsize=(7,5), title=''):\n",
        "    clear_output(wait=True)\n",
        "    fig, ax1 = plt.subplots(figsize=figsize)\n",
        "    ax1.plot(loss, label='Training Loss', color='red')\n",
        "    ax1.legend(loc='lower left')\n",
        "    ax1.set_ylabel('Cross Entropy Loss')\n",
        "\n",
        "    plt.title(title)\n",
        "    plt.show()\n",
        "\n",
        "# Neural Network\n",
        "class autoencoder(nn.Module):\n",
        "    def __init__(self):\n",
        "        super(autoencoder, self).__init__()\n",
        "\n",
        "        # Encode Reduce dimensionality \n",
        "        self.encoder = nn.Sequential(\n",
        "            nn.Linear(in_features=28**2, out_features=16**2),\n",
        "            nn.ReLU(True),\n",
        "            nn.Linear(in_features=16**2, out_features=8**2),\n",
        "            nn.ReLU(True))\n",
        "        \n",
        "        # Decode Reproduce dimensionality\n",
        "        self.decoder = nn.Sequential(\n",
        "            nn.Linear(in_features=8**2, out_features=16**2),\n",
        "            nn.ReLU(True),\n",
        "            nn.Linear(in_features=16**2, out_features=28**2),\n",
        "            nn.Sigmoid())\n",
        "       \n",
        "    def forward(self, x):\n",
        "      x = self.encoder(x)\n",
        "      x = self.decoder(x)\n",
        "      return x\n",
        "        \n",
        "loss_list = []\n",
        "num_epochs = 30\n",
        "batch_size = 2000\n",
        "learning_rate = 1e-3\n",
        "\n",
        "model = autoencoder()\n",
        "criterion = nn.MSELoss()\n",
        "optimizer = torch.optim.Adam(\n",
        "    model.parameters(), lr=learning_rate, weight_decay=1e-5)\n",
        "\n",
        "for epoch in range(num_epochs):\n",
        "\n",
        "    epoch_loss = 0\n",
        "    #for index, (ndata, odata) in enumerate(zip(x_2_flatten_noise_tensor, x_2_flatten_tensor)): \n",
        "    for x in range(batch_size):\n",
        "\n",
        "        # Use full range of data with random sampling\n",
        "        index = random.randint(0, len(x_2_flatten_noise_tensor)-1)\n",
        "        \n",
        "        # Alternative Trainning Method\n",
        "        # Smaller subset of data, let:\n",
        "        # index = x\n",
        "\n",
        "        ndata = x_2_flatten_noise_tensor[index]\n",
        "        odata = x_2_flatten_tensor[index]\n",
        "\n",
        "        # Feed Data into model\n",
        "        output = model(ndata)\n",
        "\n",
        "        # Calculate loss\n",
        "        loss = criterion(output, odata)\n",
        "        epoch_loss += loss.item()\n",
        "\n",
        "        # Optimize\n",
        "        optimizer.zero_grad()\n",
        "        loss.backward()\n",
        "        optimizer.step()\n",
        "        \n",
        "\n",
        "    loss_list.append(epoch_loss/batch_size)\n",
        "    live_plot(np.array(loss_list)) \n",
        "    print(loss_list[-1])\n",
        "\n",
        "\n",
        "torch.save(model.state_dict(), './sim_autoencoder.pth')"
      ],
      "execution_count": 6,
      "outputs": [
        {
          "output_type": "display_data",
          "data": {
            "image/png": "[encoded data removed]",
            "text/plain": [
              "<Figure size 504x360 with 1 Axes>"
            ]
          },
          "metadata": {
            "tags": []
          }
        },
        {
          "output_type": "stream",
          "text": [
            "[0.05476005735178478, 0.03995127528021112, 0.03712289653462358, 0.034419975738739596, 0.03277838766295463, 0.031098929294152186, 0.03049660033767577, 0.029583424259326422, 0.029160973501042464, 0.028580769842956214, 0.028713356832624413, 0.027900190764456056, 0.02765947873191908, 0.027527811944717543, 0.02702486034447793, 0.026541459973319435, 0.02681533196696546, 0.026592381947441027, 0.026010930618853307, 0.025815703212749213, 0.025839442737516947, 0.025936770372558385, 0.025645754018216393, 0.025099285540636628, 0.02526455149508547, 0.02497855906689074, 0.025376684797694907, 0.025080579246859996, 0.02511526916746516, 0.024800641572917812]\n"
          ],
          "name": "stdout"
        }
      ]
    },
    {
      "cell_type": "markdown",
      "metadata": {
        "id": "J4cQGqKKosit"
      },
      "source": [
        "# Q4 (25 marks)\n",
        "### Pass the noisy images through your trained denoiser. (Often in practice we would evaluate a de-noiser using new test data, but to keep things simple for this assignment we will re-use the noised training data.)\n",
        "\n",
        "### Plot histograms of the image noise (i.e. all of the pixel-by-pixel differences from the original image) before and after the use of the denoiser (You can use a subset of the data to reduce the time it takes to generate). \n",
        "\n",
        "### Display three images: an image of a noisy sample, an image of the sample after denoising, and an image the corresponding original (noise-free) sample.\n"
      ]
    },
    {
      "cell_type": "code",
      "metadata": {
        "id": "mVYpZe1jZBLV",
        "colab": {
          "base_uri": "https://localhost:8080/",
          "height": 160
        },
        "outputId": "7d996bdd-9d4a-4e86-fa32-645db8515f60"
      },
      "source": [
        "idata = x_2[0]\n",
        "ndata = x_2_noise[0]\n",
        "mdata = model(x_2_flatten_noise_tensor[0])\n",
        "mdata = mdata.detach().numpy().reshape(28, 28)\n",
        "\n",
        "ddata = mdata - idata\n",
        "\n",
        "\n",
        "\n",
        "plt.subplot(1, 4, 1)\n",
        "plt.title(\"Orignal Image\")\n",
        "plt.imshow(idata)\n",
        "\n",
        "plt.subplot(1, 4, 2)\n",
        "plt.title(\"Noised Image\")\n",
        "plt.imshow(ndata)\n",
        "\n",
        "plt.subplot(1, 4, 3)\n",
        "plt.title(\"Denoised Image\")\n",
        "plt.imshow(mdata)\n",
        "\n",
        "plt.subplot(1, 4, 4)\n",
        "plt.title(\"Pixel Difference\")\n",
        "plt.imshow(ddata)\n",
        "\n",
        "plt.hist(ddata)\n",
        "plt.show()"
      ],
      "execution_count": 7,
      "outputs": [
        {
          "output_type": "display_data",
          "data": {
            "image/png": "[encoded data removed]",
            "text/plain": [
              "<Figure size 576x396 with 4 Axes>"
            ]
          },
          "metadata": {
            "tags": []
          }
        }
      ]
    },
    {
      "cell_type": "code",
      "metadata": {
        "colab": {
          "base_uri": "https://localhost:8080/",
          "height": 602
        },
        "id": "t01827-sl3aN",
        "outputId": "85327eb4-a233-4972-f4cb-d246fd707d0e"
      },
      "source": [
        "\n",
        "# Noise\n",
        "ax = sns.distplot(x=ndata, rug=True, hist=False, color='blue', label=\"Noise\")\n",
        "\n",
        "# Denoise\n",
        "ax = sns.distplot(x=mdata, rug=True, hist=False, color='green', label=\"Denoise\")\n",
        "\n",
        "# Pixel Difference\n",
        "ax = sns.distplot(x=ddata, rug=True, hist=False, color='red', label=\"Pixel Difference\")\n",
        "ax.set_xlabel(\"Pixel Value\")\n",
        "ax.set_ylabel(\"Density\")\n",
        "ax.legend()"
      ],
      "execution_count": 12,
      "outputs": [
        {
          "output_type": "stream",
          "text": [
            "/usr/local/lib/python3.6/dist-packages/seaborn/distributions.py:2551: FutureWarning: `distplot` is a deprecated function and will be removed in a future version. Please adapt your code to use either `displot` (a figure-level function with similar flexibility) or `kdeplot` (an axes-level function for kernel density plots).\n",
            "  warnings.warn(msg, FutureWarning)\n",
            "/usr/local/lib/python3.6/dist-packages/seaborn/distributions.py:2055: FutureWarning: The `axis` variable is no longer used and will be removed. Instead, assign variables directly to `x` or `y`.\n",
            "  warnings.warn(msg, FutureWarning)\n",
            "/usr/local/lib/python3.6/dist-packages/seaborn/distributions.py:2551: FutureWarning: `distplot` is a deprecated function and will be removed in a future version. Please adapt your code to use either `displot` (a figure-level function with similar flexibility) or `kdeplot` (an axes-level function for kernel density plots).\n",
            "  warnings.warn(msg, FutureWarning)\n",
            "/usr/local/lib/python3.6/dist-packages/seaborn/distributions.py:2055: FutureWarning: The `axis` variable is no longer used and will be removed. Instead, assign variables directly to `x` or `y`.\n",
            "  warnings.warn(msg, FutureWarning)\n",
            "/usr/local/lib/python3.6/dist-packages/seaborn/distributions.py:2551: FutureWarning: `distplot` is a deprecated function and will be removed in a future version. Please adapt your code to use either `displot` (a figure-level function with similar flexibility) or `kdeplot` (an axes-level function for kernel density plots).\n",
            "  warnings.warn(msg, FutureWarning)\n",
            "/usr/local/lib/python3.6/dist-packages/seaborn/distributions.py:2055: FutureWarning: The `axis` variable is no longer used and will be removed. Instead, assign variables directly to `x` or `y`.\n",
            "  warnings.warn(msg, FutureWarning)\n"
          ],
          "name": "stderr"
        },
        {
          "output_type": "execute_result",
          "data": {
            "text/plain": [
              "<matplotlib.legend.Legend at 0x7f041901e748>"
            ]
          },
          "metadata": {
            "tags": []
          },
          "execution_count": 12
        },
        {
          "output_type": "display_data",
          "data": {
            "image/png": "[encoded data removed]",
            "text/plain": [
              "<Figure size 576x396 with 1 Axes>"
            ]
          },
          "metadata": {
            "tags": []
          }
        }
      ]
    },
    {
      "cell_type": "markdown",
      "metadata": {
        "id": "xogWdUMMv7GY"
      },
      "source": [
        "# Congratulations you have completed this week's assignment. Please remember to restart and run all cells before submitting."
      ]
    },
    {
      "cell_type": "code",
      "metadata": {
        "id": "q9gQlxAmZBLV"
      },
      "source": [
        "img_transform = transforms.Compose([\n",
        "    transforms.ToTensor(),\n",
        "    transforms.Lambda(lambda tensor:tensor/255),\n",
        "    transforms.Lambda(lambda tensor:tensor + np.random.normal(0, 0.3**0.5, x_2.shape))\n",
        "])\n",
        "\n",
        "dataset = MNIST('./data', transform=img_transform, download=True)\n",
        "dataloader = DataLoader(dataset[0][0], batch_size=batch_size, shuffle=True)"
      ],
      "execution_count": null,
      "outputs": []
    }
  ]
}
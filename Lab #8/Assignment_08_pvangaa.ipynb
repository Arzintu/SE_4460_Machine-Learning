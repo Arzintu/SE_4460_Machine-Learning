{
 "cells": [
  {
   "cell_type": "code",
   "execution_count": 1,
   "metadata": {
    "pycharm": {
     "is_executing": false
    }
   },
   "outputs": [],
   "source": [
    "# You can import *ANYTHING* you want here.\n",
    "import numpy as np\n",
    "import matplotlib.pyplot as plt\n",
    "import matplotlib as mpl\n",
    "import seaborn as sns\n",
    "from sklearn.model_selection import train_test_split\n",
    "from sklearn.tree import DecisionTreeClassifier\n",
    "from sklearn.ensemble import BaggingClassifier, RandomForestClassifier\n",
    "from sklearn.metrics import accuracy_score\n",
    "\n",
    "import pandas as pd\n",
    "from tqdm import tqdm # this is just a tool to show a progress bar as your simulations are running"
   ]
  },
  {
   "cell_type": "markdown",
   "metadata": {},
   "source": [
    "# Assignment Week 08: Nested Spheres\n",
    "\n",
    "Simulation is an incredibly useful tool in data science.  We can use simulation to evaluate how algorithms perform against ground truth, and how algorithms compare to one another.\n",
    "\n",
    "In this assignment, you will be implementing and extending the nested spheres simulation study found in *Elements of Statistical Learning* page 339. https://web.stanford.edu/~hastie/ElemStatLearn/\n",
    "\n",
    "# Nested Spheres\n",
    "\n",
    "Consider a dataset which contains 10 features $X_1 \\,, X_2 \\,, \\cdots \\,, X_{10}$.  The features are standard independent Gaussian random variables.  That is to say\n",
    "\n",
    "$$ X_j \\sim \\operatorname{Normal}(0,1) \\quad \\forall j = 1 \\dots 10$$\n",
    "\n",
    "We are going to use these features to study a classification problem.  You will have to create the target variable, $Y$ by computing the following rule:\n",
    "\n",
    "$$ Y = \\begin{cases}  1 \\quad \\mbox{ if } \\sum_{j=1}^{10} X^2_j>9.34 \\\\ 0 \\quad  \\mbox{else} \\end{cases}$$\n",
    "\n",
    "# The Simulation Study\n",
    "\n",
    "Follow these steps to complete the assignment. "
   ]
  },
  {
   "cell_type": "markdown",
   "metadata": {},
   "source": [
    "### Part 1 ( X / 25 pts )\n",
    "Write a function, `generate_data`, that takes a dataset size N and creates a dataset according to the rule above, returning the feature matrix `X` and the labels `y`."
   ]
  },
  {
   "cell_type": "code",
   "execution_count": 2,
   "metadata": {
    "pycharm": {
     "is_executing": false
    }
   },
   "outputs": [
    {
     "name": "stdout",
     "text": [
      "[1 0 1 0 0 1 0 0 0 0 0 0 0 1 1 0 1 1 0 0 0 1 0 1 0]\n"
     ],
     "output_type": "stream"
    }
   ],
   "source": [
    "def generate_data(N):\n",
    "    # Create feature matrix X and labels y\n",
    "    X = np.random.normal(0, 1, size = (N,10))\n",
    "    F =np.sum(np.square(X), axis=1)\n",
    "    y = np.where(F > 9.34, 0, 1)\n",
    "    return X,y\n",
    "\n",
    "print(generate_data(25)[1])"
   ]
  },
  {
   "cell_type": "markdown",
   "metadata": {},
   "source": [
    "## Part 2 ( X / 25 pts )\n",
    "\n",
    "Write a function `run_simulation` that accepts two numbers, Ntrain and Ntest. It should generate a training set and testing set using your `generate_data` function and then train **four classifiers**. The first should be a bagged decision tree, the second should be a random forest with `max_features=1`, the third should be a random forest with `max_features=3`, and the fourth can be anything you like, for example a random forest with more features or an XGboost model. Use 500 trees in your random forests and the bagged classifier. The function should return the accuracy for each of these models estimated using the training set you generated."
   ]
  },
  {
   "cell_type": "code",
   "execution_count": 3,
   "metadata": {
    "pycharm": {
     "is_executing": false
    }
   },
   "outputs": [],
   "source": [
    "def run_simulation(Ntrain,Ntest):\n",
    "    #    # Code to generate data and run one simulation\n",
    "    \n",
    "    # Create Data\n",
    "    X, y = generate_data(Ntrain + Ntest)\n",
    "    \n",
    "    # Test / Train Data\n",
    "    seed = 1\n",
    "    Xtrain, Xtest, ytrain, ytest = train_test_split(X, y, test_size=Ntest ,train_size = Ntrain, random_state=seed)\n",
    "    \n",
    "    \n",
    "    num_trees = 500\n",
    "    # Bagged decision tree \n",
    "    tree1 = DecisionTreeClassifier()\n",
    "    model_1 = BaggingClassifier(base_estimator = tree1, n_estimators = num_trees, random_state = seed)\n",
    "    model_1.fit(Xtrain, ytrain)\n",
    "    y_p1 = model_1.predict(Xtest)\n",
    "    bag_accuracy = accuracy_score(ytest, y_p1)\n",
    "    \n",
    "    # Random Forest (max_features = 1)\n",
    "    model_2 = RandomForestClassifier(max_features = 1, random_state = seed)\n",
    "    model_2 = model_2.fit(Xtrain, ytrain)\n",
    "    y_p2 = model_2.predict(Xtest)\n",
    "    rf_mf1_accuracy = accuracy_score(ytest, y_p2)\n",
    "    \n",
    "    # Random Forest (max_features = 3)\n",
    "    model_3 = RandomForestClassifier(max_features = 3, random_state = seed)\n",
    "    model_3 = model_3.fit(Xtrain, ytrain)\n",
    "    y_p3 = model_3.predict(Xtest)\n",
    "    rf_mf3_accuracy = accuracy_score(ytest, y_p3)\n",
    "    \n",
    "    # Wanted to use XGBoost but having trouble installing it with windows :( \n",
    "    model_4 = RandomForestClassifier(max_features = 4, random_state = seed)\n",
    "    model_4 = model_4.fit(Xtrain, ytrain)\n",
    "    y_p4 = model_4.predict(Xtest)\n",
    "    my_classifier_accuracy = accuracy_score(ytest, y_p4)\n",
    "    \n",
    "    return bag_accuracy, rf_mf1_accuracy, rf_mf3_accuracy, my_classifier_accuracy"
   ]
  },
  {
   "cell_type": "markdown",
   "metadata": {},
   "source": [
    "## Part 3 ( X / 25 pts )\n",
    "\n",
    "Run 50 simulations using a training set of size 1000 and a test set of size 5000 and record all the results in four vectors, one for each type of model. *You should probably debug your code using smaller training and test set sized first because these will take a while. The full simulation takes 10 minutes on my old 2.8GHz core i5 laptop.*"
   ]
  },
  {
   "cell_type": "code",
   "execution_count": 4,
   "metadata": {
    "pycharm": {
     "is_executing": false
    }
   },
   "outputs": [
    {
     "name": "stderr",
     "text": [
      "\r  0%|          | 0/50 [00:00<?, ?it/s]",
      "\r  2%|▏         | 1/50 [00:07<05:57,  7.29s/it]",
      "\r  4%|▍         | 2/50 [00:14<05:53,  7.37s/it]",
      "\r  6%|▌         | 3/50 [00:22<05:54,  7.55s/it]",
      "\r  8%|▊         | 4/50 [00:30<05:47,  7.55s/it]",
      "\r 10%|█         | 5/50 [00:37<05:35,  7.46s/it]",
      "\r 12%|█▏        | 6/50 [00:45<05:27,  7.45s/it]",
      "\r 14%|█▍        | 7/50 [00:52<05:16,  7.35s/it]",
      "\r 16%|█▌        | 8/50 [01:00<05:16,  7.54s/it]",
      "\r 18%|█▊        | 9/50 [01:08<05:15,  7.70s/it]",
      "\r 20%|██        | 10/50 [01:18<05:39,  8.49s/it]",
      "\r 22%|██▏       | 11/50 [01:26<05:23,  8.28s/it]",
      "\r 24%|██▍       | 12/50 [01:33<05:05,  8.05s/it]",
      "\r 26%|██▌       | 13/50 [01:40<04:44,  7.70s/it]",
      "\r 28%|██▊       | 14/50 [01:47<04:32,  7.56s/it]",
      "\r 30%|███       | 15/50 [01:55<04:19,  7.42s/it]",
      "\r 32%|███▏      | 16/50 [02:01<04:05,  7.23s/it]",
      "\r 34%|███▍      | 17/50 [02:08<03:55,  7.13s/it]",
      "\r 36%|███▌      | 18/50 [02:16<03:50,  7.19s/it]",
      "\r 38%|███▊      | 19/50 [02:23<03:43,  7.20s/it]",
      "\r 40%|████      | 20/50 [02:30<03:33,  7.12s/it]",
      "\r 42%|████▏     | 21/50 [02:37<03:27,  7.16s/it]",
      "\r 44%|████▍     | 22/50 [02:44<03:22,  7.23s/it]",
      "\r 46%|████▌     | 23/50 [02:51<03:07,  6.95s/it]",
      "\r 48%|████▊     | 24/50 [02:58<03:06,  7.16s/it]",
      "\r 50%|█████     | 25/50 [03:06<03:01,  7.25s/it]",
      "\r 52%|█████▏    | 26/50 [03:13<02:54,  7.29s/it]",
      "\r 54%|█████▍    | 27/50 [03:20<02:46,  7.24s/it]",
      "\r 56%|█████▌    | 28/50 [03:28<02:40,  7.31s/it]",
      "\r 58%|█████▊    | 29/50 [03:36<02:37,  7.51s/it]",
      "\r 60%|██████    | 30/50 [03:43<02:28,  7.43s/it]",
      "\r 62%|██████▏   | 31/50 [03:50<02:17,  7.26s/it]",
      "\r 64%|██████▍   | 32/50 [03:57<02:12,  7.35s/it]",
      "\r 66%|██████▌   | 33/50 [04:05<02:07,  7.48s/it]",
      "\r 68%|██████▊   | 34/50 [04:12<01:57,  7.35s/it]",
      "\r 70%|███████   | 35/50 [04:19<01:48,  7.26s/it]",
      "\r 72%|███████▏  | 36/50 [04:27<01:43,  7.41s/it]",
      "\r 74%|███████▍  | 37/50 [04:34<01:36,  7.42s/it]",
      "\r 76%|███████▌  | 38/50 [04:42<01:27,  7.33s/it]",
      "\r 78%|███████▊  | 39/50 [04:48<01:18,  7.17s/it]",
      "\r 80%|████████  | 40/50 [04:55<01:09,  6.97s/it]",
      "\r 82%|████████▏ | 41/50 [05:01<01:01,  6.81s/it]",
      "\r 84%|████████▍ | 42/50 [05:08<00:54,  6.85s/it]",
      "\r 86%|████████▌ | 43/50 [05:16<00:49,  7.04s/it]",
      "\r 88%|████████▊ | 44/50 [05:23<00:42,  7.12s/it]",
      "\r 90%|█████████ | 45/50 [05:30<00:35,  7.00s/it]",
      "\r 92%|█████████▏| 46/50 [05:37<00:27,  6.98s/it]",
      "\r 94%|█████████▍| 47/50 [05:44<00:21,  7.18s/it]",
      "\r 96%|█████████▌| 48/50 [05:54<00:15,  7.88s/it]",
      "\r 98%|█████████▊| 49/50 [06:01<00:07,  7.64s/it]",
      "\r100%|██████████| 50/50 [06:09<00:00,  7.63s/it]",
      "\r100%|██████████| 50/50 [06:09<00:00,  7.38s/it]",
      "\n"
     ],
     "output_type": "stream"
    }
   ],
   "source": [
    "#Setup code to record results here:\n",
    "\n",
    "\n",
    "bag = []\n",
    "rf_mf1 = []\n",
    "rf_mf3 = []\n",
    "my_classifier = []\n",
    "\n",
    "# Run simulations:\n",
    "for sim in tqdm(range(50)):\n",
    "    # Collect data for each simulation \n",
    "    bag_accuracy, rf_mf1_accuracy, rf_mf3_accuracy, my_classifier_accuracy = run_simulation(1000,5000)\n",
    "    bag.append(bag_accuracy)\n",
    "    rf_mf1.append(rf_mf1_accuracy)\n",
    "    rf_mf3.append(rf_mf3_accuracy)\n",
    "    my_classifier.append(my_classifier_accuracy)\n"
   ]
  },
  {
   "cell_type": "markdown",
   "metadata": {},
   "source": [
    "## Part 4 (X / 25 pts) \n",
    "Plot the error rates for each model using a boxplot for each one. The four models should be across the x-axis, and the y-axis should be accuracy."
   ]
  },
  {
   "cell_type": "code",
   "execution_count": 5,
   "metadata": {
    "pycharm": {
     "is_executing": false
    }
   },
   "outputs": [
    {
     "data": {
      "text/plain": "Text(0, 0.5, 'Accuracy')"
     },
     "metadata": {},
     "output_type": "execute_result",
     "execution_count": 5
    },
    {
     "data": {
      "text/plain": "<Figure size 720x480 with 1 Axes>",
      "image/png": "[encoded data removed]"
     },
     "metadata": {
      "needs_background": "light"
     },
     "output_type": "display_data"
    }
   ],
   "source": [
    "#Plot the error rates as a box plot by model to complete the assignment.\n",
    "\n",
    "accuracy = [bag, rf_mf1, rf_mf3, my_classifier]\n",
    "fig, ax = plt.subplots(dpi = 120)\n",
    "ax = sns.boxplot(data=accuracy)\n",
    "ax.set_title(\"Error Rates of Different Models\")\n",
    "ax.set_xlabel(\"Model\")\n",
    "ax.set_ylabel(\"Accuracy\")"
   ]
  }
 ],
 "metadata": {
  "kernelspec": {
   "display_name": "Python 3",
   "language": "python",
   "name": "python3"
  },
  "language_info": {
   "codemirror_mode": {
    "name": "ipython",
    "version": 3
   },
   "file_extension": ".py",
   "mimetype": "text/x-python",
   "name": "python",
   "nbconvert_exporter": "python",
   "pygments_lexer": "ipython3",
   "version": "3.7.4"
  },
  "pycharm": {
   "stem_cell": {
    "cell_type": "raw",
    "source": [],
    "metadata": {
     "collapsed": false
    }
   }
  }
 },
 "nbformat": 4,
 "nbformat_minor": 4
}
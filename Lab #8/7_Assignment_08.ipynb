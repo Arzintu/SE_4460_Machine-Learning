{
 "cells": [
  {
   "cell_type": "code",
   "execution_count": 1,
   "metadata": {
    "pycharm": {
     "is_executing": false
    }
   },
   "outputs": [],
   "source": [
    "# You can import *ANYTHING* you want here.\n",
    "import numpy as np\n",
    "import matplotlib.pyplot as plt\n",
    "import matplotlib as mpl\n",
    "import seaborn as sns\n",
    "from scipy.stats import multivariate_normal\n",
    "from sklearn.datasets import make_classification, make_blobs\n",
    "from sklearn.tree import DecisionTreeClassifier\n",
    "from sklearn.ensemble import BaggingClassifier, RandomForestClassifier\n",
    "from sklearn.metrics import accuracy_score\n",
    "import pandas as pd\n",
    "from sklearn.model_selection import train_test_split\n",
    "from sklearn.model_selection import cross_val_score\n",
    "from sklearn.model_selection import train_test_split\n",
    "from tqdm import tqdm # this is just a tool to show a progress bar as your simulations are running"
   ]
  },
  {
   "cell_type": "markdown",
   "metadata": {},
   "source": [
    "# Assignment Week 08: Nested Spheres\n",
    "\n",
    "Simulation is an incredibly useful tool in data science.  We can use simulation to evaluate how algorithms perform against ground truth, and how algorithms compare to one another.\n",
    "\n",
    "In this assignment, you will be implementing and extending the nested spheres simulation study found in *Elements of Statistical Learning* page 339. https://web.stanford.edu/~hastie/ElemStatLearn/\n",
    "\n",
    "# Nested Spheres\n",
    "\n",
    "Consider a dataset which contains 10 features $X_1 \\,, X_2 \\,, \\cdots \\,, X_{10}$.  The features are standard independent Gaussian random variables.  That is to say\n",
    "\n",
    "$$ X_j \\sim \\operatorname{Normal}(0,1) \\quad \\forall j = 1 \\dots 10$$\n",
    "\n",
    "We are going to use these features to study a classification problem.  You will have to create the target variable, $Y$ by computing the following rule:\n",
    "\n",
    "$$ Y = \\begin{cases}  1 \\quad \\mbox{ if } \\sum_{j=1}^{10} X^2_j>9.34 \\\\ 0 \\quad  \\mbox{else} \\end{cases}$$\n",
    "\n",
    "# The Simulation Study\n",
    "\n",
    "Follow these steps to complete the assignment. "
   ]
  },
  {
   "cell_type": "markdown",
   "metadata": {},
   "source": [
    "### Part 1 ( X / 25 pts )\n",
    "Write a function, `generate_data`, that takes a dataset size N and creates a dataset according to the rule above, returning the feature matrix `X` and the labels `y`."
   ]
  },
  {
   "cell_type": "code",
   "execution_count": 2,
   "metadata": {
    "pycharm": {
     "is_executing": false
    }
   },
   "outputs": [],
   "source": [
    "def generate_data(N):\n",
    "    # Create feature matrix X and labels y \n",
    "    X, y = make_classification(n_samples=N, n_features=10, n_classes=2)\n",
    "    Xtemp = np.square(X)\n",
    "    Xtemp = Xtemp.sum(axis=1)\n",
    "    \n",
    "    for i in range(0,N):\n",
    "        if Xtemp[i] > 9.34:\n",
    "            y[i] = 1\n",
    "        else:\n",
    "            y[i] = 0\n",
    "                \n",
    "    return X,y\n",
    "\n",
    "#print(generate_data(11))"
   ]
  },
  {
   "cell_type": "markdown",
   "metadata": {},
   "source": [
    "## Part 2 ( X / 25 pts )\n",
    "\n",
    "Write a function `run_simulation` that accepts two numbers, Ntrain and Ntest. It should generate a training set and testing set using your `generate_data` function and then train **four classifiers**. The first should be a bagged decision tree, the second should be a random forest with `max_features=1`, the third should be a random forest with `max_features=3`, and the fourth can be anything you like, for example a random forest with more features or an XGboost model. Use 500 trees in your random forests and the bagged classifier. The function should return the accuracy for each of these models estimated using the training set you generated."
   ]
  },
  {
   "cell_type": "code",
   "execution_count": 3,
   "metadata": {
    "pycharm": {
     "is_executing": false
    }
   },
   "outputs": [],
   "source": [
    "def run_simulation(Ntrain,Ntest):\n",
    "    # Code to generate data and run one simulation\n",
    "    num_trees = 500\n",
    "    seed = 13\n",
    "    N = Ntrain + Ntest\n",
    "    X, y = generate_data(N)\n",
    "    Xtrain, Xtest, ytrain, ytest = train_test_split(X, y, test_size=Ntest ,train_size = Ntrain, random_state=seed)\n",
    "    \n",
    "    # classifier 1 - bagged decision tree (500 trees)\n",
    "    tree1 = DecisionTreeClassifier()\n",
    "    model1 = BaggingClassifier(base_estimator = tree1, n_estimators = num_trees, random_state = seed)\n",
    "    model1.fit(Xtrain, ytrain)\n",
    "    y_p1 = model1.predict(Xtest)\n",
    "    bag_accuracy = accuracy_score(ytest, y_p1)\n",
    "    \n",
    "    # classifier 2 - random forest with max_features = 1 (500 trees)\n",
    "    forest1 = RandomForestClassifier(max_features = 1, random_state = seed)\n",
    "    forest1 = forest1.fit(Xtrain, ytrain)\n",
    "    y_p2 = forest1.predict(Xtest)\n",
    "    rf_mf1_accuracy = accuracy_score(ytest, y_p2)\n",
    "    \n",
    "    # classifier 3 - random forest with max_features = 3 (500 trees)\n",
    "    forest2 = RandomForestClassifier(max_features = 3, random_state = seed)\n",
    "    forest2 = forest2.fit(Xtrain, ytrain)\n",
    "    y_p3 = forest2.predict(Xtest)\n",
    "    rf_mf3_accuracy = accuracy_score(ytest, y_p3)\n",
    "    \n",
    "    # classifier 4 - XGBoost cuz why not\n",
    "    forest3 = RandomForestClassifier(max_features = 4, random_state = seed)\n",
    "    forest3 = forest3.fit(Xtrain, ytrain)\n",
    "    y_p4 = forest3.predict(Xtest)\n",
    "    my_classifier_accuracy = accuracy_score(ytest, y_p4)\n",
    "    \n",
    "    return bag_accuracy , rf_mf1_accuracy, rf_mf3_accuracy, my_classifier_accuracy\n",
    "\n",
    "#print(run_simulation(11,13))"
   ]
  },
  {
   "cell_type": "markdown",
   "metadata": {},
   "source": [
    "## Part 3 ( X / 25 pts )\n",
    "\n",
    "Run 50 simulations using a training set of size 1000 and a test set of size 5000 and record all the results in four vectors, one for each type of model. *You should probably debug your code using smaller training and test set sized first because these will take a while. The full simulation takes 10 minutes on my old 2.8GHz core i5 laptop.*"
   ]
  },
  {
   "cell_type": "code",
   "execution_count": 4,
   "metadata": {
    "pycharm": {
     "is_executing": false
    }
   },
   "outputs": [
    {
     "name": "stderr",
     "text": [
      "\r  0%|          | 0/50 [00:00<?, ?it/s]",
      "\r  2%|▏         | 1/50 [00:06<05:06,  6.26s/it]",
      "\r  4%|▍         | 2/50 [00:12<05:04,  6.35s/it]",
      "\r  6%|▌         | 3/50 [00:18<04:49,  6.16s/it]",
      "\r  8%|▊         | 4/50 [00:24<04:36,  6.01s/it]",
      "\r 10%|█         | 5/50 [00:29<04:27,  5.95s/it]",
      "\r 12%|█▏        | 6/50 [00:35<04:21,  5.95s/it]",
      "\r 14%|█▍        | 7/50 [00:42<04:20,  6.06s/it]",
      "\r 16%|█▌        | 8/50 [00:50<04:37,  6.62s/it]",
      "\r 18%|█▊        | 9/50 [00:57<04:43,  6.91s/it]",
      "\r 20%|██        | 10/50 [01:04<04:39,  6.98s/it]",
      "\r 22%|██▏       | 11/50 [01:12<04:34,  7.04s/it]",
      "\r 24%|██▍       | 12/50 [01:18<04:19,  6.83s/it]",
      "\r 26%|██▌       | 13/50 [01:24<04:08,  6.71s/it]",
      "\r 28%|██▊       | 14/50 [01:31<03:59,  6.65s/it]",
      "\r 30%|███       | 15/50 [01:37<03:46,  6.47s/it]",
      "\r 32%|███▏      | 16/50 [01:43<03:32,  6.26s/it]",
      "\r 34%|███▍      | 17/50 [01:48<03:16,  5.94s/it]",
      "\r 36%|███▌      | 18/50 [01:53<03:04,  5.77s/it]",
      "\r 38%|███▊      | 19/50 [02:00<03:04,  5.94s/it]",
      "\r 40%|████      | 20/50 [02:06<03:02,  6.08s/it]",
      "\r 42%|████▏     | 21/50 [02:13<03:02,  6.30s/it]",
      "\r 44%|████▍     | 22/50 [02:19<02:54,  6.25s/it]",
      "\r 46%|████▌     | 23/50 [02:25<02:49,  6.29s/it]",
      "\r 48%|████▊     | 24/50 [02:31<02:36,  6.03s/it]",
      "\r 50%|█████     | 25/50 [02:37<02:30,  6.02s/it]",
      "\r 52%|█████▏    | 26/50 [02:43<02:23,  5.96s/it]",
      "\r 54%|█████▍    | 27/50 [02:48<02:11,  5.73s/it]",
      "\r 56%|█████▌    | 28/50 [02:54<02:09,  5.88s/it]",
      "\r 58%|█████▊    | 29/50 [03:00<02:04,  5.95s/it]",
      "\r 60%|██████    | 30/50 [03:06<01:58,  5.94s/it]",
      "\r 62%|██████▏   | 31/50 [03:13<01:57,  6.17s/it]",
      "\r 64%|██████▍   | 32/50 [03:19<01:49,  6.11s/it]",
      "\r 66%|██████▌   | 33/50 [03:25<01:45,  6.18s/it]",
      "\r 68%|██████▊   | 34/50 [03:31<01:38,  6.16s/it]",
      "\r 70%|███████   | 35/50 [03:38<01:34,  6.28s/it]",
      "\r 72%|███████▏  | 36/50 [03:44<01:26,  6.18s/it]",
      "\r 74%|███████▍  | 37/50 [03:49<01:18,  6.07s/it]",
      "\r 76%|███████▌  | 38/50 [03:55<01:10,  5.86s/it]",
      "\r 78%|███████▊  | 39/50 [04:01<01:06,  6.02s/it]",
      "\r 80%|████████  | 40/50 [04:08<01:02,  6.25s/it]",
      "\r 82%|████████▏ | 41/50 [04:14<00:55,  6.15s/it]",
      "\r 84%|████████▍ | 42/50 [04:20<00:47,  5.98s/it]",
      "\r 86%|████████▌ | 43/50 [04:26<00:42,  6.08s/it]",
      "\r 88%|████████▊ | 44/50 [04:32<00:36,  6.06s/it]",
      "\r 90%|█████████ | 45/50 [04:39<00:31,  6.28s/it]",
      "\r 92%|█████████▏| 46/50 [04:44<00:24,  6.07s/it]",
      "\r 94%|█████████▍| 47/50 [04:50<00:17,  5.90s/it]",
      "\r 96%|█████████▌| 48/50 [04:55<00:11,  5.74s/it]",
      "\r 98%|█████████▊| 49/50 [05:01<00:05,  5.74s/it]",
      "\r100%|██████████| 50/50 [05:06<00:00,  5.63s/it]",
      "\r100%|██████████| 50/50 [05:06<00:00,  6.13s/it]",
      "\n"
     ],
     "output_type": "stream"
    }
   ],
   "source": [
    "#Setup code to record results here:\n",
    "bagV = []\n",
    "rfmf1V = []\n",
    "rfmf3V = []\n",
    "myclassifierV = []\n",
    "\n",
    "#Loop to run simulations:\n",
    "for sim in tqdm(range(50)):\n",
    "    # Run simulations, collect data\n",
    "    bag, rfmf1, rfmf3, myclassifier = run_simulation(1000,5000)\n",
    "    bagV.append(bag)\n",
    "    rfmf1V.append(rfmf1)\n",
    "    rfmf3V.append(rfmf3)\n",
    "    myclassifierV.append(myclassifier)\n",
    "\n",
    "#print('BaggedTree:  ', bagV, '\\nRandForest1: ', rfmf1V, '\\nRandForest2: ', rfmf3V, '\\nMyClassifier:', myclassifierV)"
   ]
  },
  {
   "cell_type": "markdown",
   "metadata": {},
   "source": [
    "## Part 4 (X / 25 pts) \n",
    "Plot the error rates for each model using a boxplot for each one. The four models should be across the x-axis, and the y-axis should be accuracy."
   ]
  },
  {
   "cell_type": "code",
   "execution_count": 5,
   "metadata": {
    "pycharm": {
     "is_executing": false
    }
   },
   "outputs": [
    {
     "data": {
      "text/plain": "Text(0, 0.5, 'Accuracy')"
     },
     "metadata": {},
     "output_type": "execute_result",
     "execution_count": 5
    },
    {
     "data": {
      "text/plain": "<Figure size 720x480 with 1 Axes>",
      "image/png": "[encoded data removed]"
     },
     "metadata": {
      "needs_background": "light"
     },
     "output_type": "display_data"
    }
   ],
   "source": [
    "#Plot the error rates as a box plot by model to complete the assignment. \n",
    "accuracy = [bagV, rfmf1V, rfmf3V, myclassifier]\n",
    "fig, ax = plt.subplots(dpi = 120)\n",
    "ax = sns.boxplot(data=accuracy)\n",
    "ax.set_title(\"Error rates\")\n",
    "ax.set_xlabel(\"Model\")\n",
    "ax.set_ylabel(\"Accuracy\")"
   ]
  }
 ],
 "metadata": {
  "kernelspec": {
   "display_name": "Python 3",
   "language": "python",
   "name": "python3"
  },
  "language_info": {
   "codemirror_mode": {
    "name": "ipython",
    "version": 3
   },
   "file_extension": ".py",
   "mimetype": "text/x-python",
   "name": "python",
   "nbconvert_exporter": "python",
   "pygments_lexer": "ipython3",
   "version": "3.8.5"
  }
 },
 "nbformat": 4,
 "nbformat_minor": 4
}
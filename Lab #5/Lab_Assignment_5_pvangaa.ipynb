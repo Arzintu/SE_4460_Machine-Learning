{
 "cells": [
  {
   "cell_type": "markdown",
   "metadata": {},
   "source": [
    "# Grade: /100 pts\n",
    "\n",
    "# Lab Assignment 05: Model Selection & Cross Validation\n",
    "\n",
    "### You're a Data Scientist!\n",
    "You are working as a Junior Data Scientist for a professional football (er, Soccer) club.  The owner of the team is very interested in seeing how the use of data can help improve the team's peformance, and perhaps win them a championship!\n",
    "\n",
    "The draft is coming up soon (thats when you get to pick new players for your team), and the owner has asked you to create a model to help score potential draftees.  The model should look at attributes about the player and predict what their \"rating\" will be once they start playing professionally.\n",
    "\n",
    "The football club's data team has provided you with data for 17,993 footballers from the league.  Your job: work with the Senior Data Scientist to build a model or models, perform model selection, and make predictions on players you have not yet seen.\n",
    "\n",
    "### The Dataset\n",
    "\n",
    "The data is stored in a csv file called `footballer_data.csv`.  The data contain 52 columns, including some information about the player, their skills, and their overall measure as an effective footballer.\n",
    "\n",
    "Most features relate to the player's abilities in football related skills, such as passing, shooting, dribbling, etc.  Some features are rated on a 1-5 scale (5 being the best), others are rated on 0-100 (100 being the best), and others still are categorical (e.g. work rate is coded as low, medium, or high).\n",
    "\n",
    "The target variable (or $y$ variable, if you will) is `overall`.  This is an overall measure of the footballer's skill and is rated from 0 to 100.  The most amazingly skilled footballer would be rated 100, where as I would struggle to score more than a 20. The model(s) you build should use the other features to predict `overall`.\n",
    "\n",
    "\n",
    "### Follow These Steps before submitting\n",
    "Once you are finished, ensure to complete the following steps.\n",
    "\n",
    "1.  Restart your kernel by clicking 'Kernel' > 'Restart & Run All'.\n",
    "\n",
    "2.  Fix any errors which result from this.\n",
    "\n",
    "3.  Repeat steps 1. and 2. until your notebook runs without errors.\n",
    "\n",
    "4.  Submit your completed notebook to OWL by the deadline.\n",
    "\n",
    "\n",
    "### Preliminaries\n",
    "---"
   ]
  },
  {
   "cell_type": "code",
   "execution_count": 35,
   "metadata": {
    "pycharm": {
     "is_executing": false
    }
   },
   "outputs": [],
   "source": [
    "import pandas as pd\n",
    "import numpy as np\n",
    "import matplotlib.pyplot as plt\n",
    "import seaborn as sns\n",
    "from sklearn.model_selection import train_test_split, cross_val_score\n",
    "from sklearn.linear_model import LinearRegression\n",
    "from sklearn.pipeline import Pipeline\n",
    "from sklearn.preprocessing import StandardScaler, PolynomialFeatures\n",
    "from sklearn.metrics import make_scorer\n",
    "from sklearn.base import BaseEstimator, TransformerMixin\n",
    "from scipy.stats import t, sem\n",
    "pd.set_option('display.max_columns', 500)\n",
    "\n",
    "\n",
    "%matplotlib inline"
   ]
  },
  {
   "cell_type": "markdown",
   "metadata": {},
   "source": [
    "### Question 1: /10pts\n",
    "\n",
    "Read in the data and take a look at the dataframe.  There should be 52 columns. The outcome of interest is called `overall` which gives an overall measure of player performance. Not all of the other columns are particularly useful for modelling though (for instance, `ID` is just a unique identifier for the player.  This is essentially an arbitrary number and has no bearing on the player's rating).\n",
    "\n",
    "The Senior Data Scientist thinks the following columns should be removed:\n",
    "\n",
    "* ID\n",
    "* club\n",
    "* club_logo\n",
    "* birth_date\n",
    "* flag\n",
    "* nationality\n",
    "* photo\n",
    "* potential\n",
    "\n",
    "The Senior Data Scientist would also like the following columns converted into dummy variables:\n",
    "\n",
    "* work_rate_att\n",
    "* work_rate_def\n",
    "* preferred_foot\n",
    "\n",
    "Clean the data according to the Senior Data Scientist's instructions."
   ]
  },
  {
   "cell_type": "code",
   "execution_count": 36,
   "metadata": {
    "pycharm": {
     "is_executing": false
    }
   },
   "outputs": [
    {
     "data": {
      "text/plain": "       age  height_cm  weight_kg  overall  pac  sho  pas  dri  def  phy  \\\n0       32      185.0       80.0       94   90   93   82   90   33   80   \n1       30      170.0       72.0       93   89   90   86   96   26   61   \n2       25      175.0       68.0       92   92   84   79   95   30   60   \n3       30      182.0       86.0       92   82   90   79   87   42   81   \n4       31      193.0       92.0       92   91   90   95   89   60   91   \n...    ...        ...        ...      ...  ...  ...  ...  ...  ...  ...   \n11755   21      184.0       68.0       64   68   51   65   58   43   60   \n11756   28      189.0       80.0       64   67   62   56   66   55   61   \n11757   29      173.0       70.0       64   62   38   55   69   63   64   \n11758   19      178.0       74.0       64   69   40   57   61   62   65   \n11759   25      178.0       75.0       64   43   33   43   32   67   65   \n\n       international_reputation  skill_moves  weak_foot  crossing  finishing  \\\n0                             5            5          4        85         94   \n1                             5            4          4        77         95   \n2                             5            5          5        75         89   \n3                             5            4          4        77         94   \n4                             5            1          4        15         13   \n...                         ...          ...        ...       ...        ...   \n11755                         1            3          2        60         55   \n11756                         1            1          3         5          6   \n11757                         1            2          3        58         25   \n11758                         1            2          2        63         38   \n11759                         1            2          3        49         18   \n\n       heading_accuracy  short_passing  volleys  dribbling  curve  \\\n0                    88             83       88         91     81   \n1                    71             88       85         97     89   \n2                    62             81       83         96     81   \n3                    77             83       88         86     86   \n4                    25             55       11         30     14   \n...                 ...            ...      ...        ...    ...   \n11755                42             73       37         55     31   \n11756                29             39       13         10     18   \n11757                61             61       22         68     25   \n11758                54             62       36         60     40   \n11759                52             54       23         20     15   \n\n       free_kick_accuracy  long_passing  ball_control  acceleration  \\\n0                      76            77            93            89   \n1                      90            87            95            92   \n2                      84            75            95            94   \n3                      84            64            91            88   \n4                      11            59            48            58   \n...                   ...           ...           ...           ...   \n11755                  33            70            59            70   \n11756                   9            29            16            56   \n11757                  33            58            65            64   \n11758                  33            55            60            70   \n11759                  43            43            37            44   \n\n       sprint_speed  agility  reactions  balance  shot_power  jumping  \\\n0                91       89         96       63          94       95   \n1                87       90         95       95          85       68   \n2                90       96         88       82          80       61   \n3                77       86         93       60          87       69   \n4                61       52         85       35          25       78   \n...             ...      ...        ...      ...         ...      ...   \n11755            66       69         56       68          52       55   \n11756            55       52         63       51          53       58   \n11757            60       85         66       74          55       69   \n11758            69       65         64       61          54       61   \n11759            42       45         59       65          52       65   \n\n       stamina  strength  long_shots  aggression  interceptions  positioning  \\\n0           92        80          92          63             29           95   \n1           73        59          88          48             22           93   \n2           78        53          77          56             36           90   \n3           89        80          86          78             41           92   \n4           44        83          16          29             30           12   \n...        ...       ...         ...         ...            ...          ...   \n11755       56        63          40          59             63           65   \n11756       27        72          10          17             16           13   \n11757       65        62          45          65             64           55   \n11758       66        70          32          54             58           39   \n11759       68        64          47          65             65           23   \n\n       vision  penalties  composure  marking  standing_tackle  \\\n0          85       85.0       95.0     22.0             31.0   \n1          90       78.0       96.0     13.0             28.0   \n2          80       81.0       92.0     21.0             24.0   \n3          84       85.0       83.0     30.0             45.0   \n4          70       47.0       70.0     10.0             10.0   \n...       ...        ...        ...      ...              ...   \n11755      70       58.0       42.0     35.0             39.0   \n11756      43       40.0       48.0     16.0             19.0   \n11757      50       55.0       69.0     64.0             61.0   \n11758      55       43.0       44.0     63.0             65.0   \n11759      26       47.0       57.0     70.0             68.0   \n\n       work_rate_att_Low  work_rate_att_Medium  work_rate_def_Low  \\\n0                      0                     0                  1   \n1                      0                     1                  0   \n2                      0                     0                  0   \n3                      0                     0                  0   \n4                      0                     1                  0   \n...                  ...                   ...                ...   \n11755                  0                     1                  0   \n11756                  0                     1                  0   \n11757                  1                     0                  0   \n11758                  0                     1                  0   \n11759                  0                     1                  0   \n\n       work_rate_def_Medium  preferred_foot_Right  \n0                         0                     1  \n1                         1                     0  \n2                         1                     1  \n3                         1                     1  \n4                         1                     1  \n...                     ...                   ...  \n11755                     1                     1  \n11756                     1                     1  \n11757                     1                     1  \n11758                     1                     1  \n11759                     1                     1  \n\n[11760 rows x 46 columns]",
      "text/html": "<div>\n<style scoped>\n    .dataframe tbody tr th:only-of-type {\n        vertical-align: middle;\n    }\n\n    .dataframe tbody tr th {\n        vertical-align: top;\n    }\n\n    .dataframe thead th {\n        text-align: right;\n    }\n</style>\n<table border=\"1\" class=\"dataframe\">\n  <thead>\n    <tr style=\"text-align: right;\">\n      <th></th>\n      <th>age</th>\n      <th>height_cm</th>\n      <th>weight_kg</th>\n      <th>overall</th>\n      <th>pac</th>\n      <th>sho</th>\n      <th>pas</th>\n      <th>dri</th>\n      <th>def</th>\n      <th>phy</th>\n      <th>international_reputation</th>\n      <th>skill_moves</th>\n      <th>weak_foot</th>\n      <th>crossing</th>\n      <th>finishing</th>\n      <th>heading_accuracy</th>\n      <th>short_passing</th>\n      <th>volleys</th>\n      <th>dribbling</th>\n      <th>curve</th>\n      <th>free_kick_accuracy</th>\n      <th>long_passing</th>\n      <th>ball_control</th>\n      <th>acceleration</th>\n      <th>sprint_speed</th>\n      <th>agility</th>\n      <th>reactions</th>\n      <th>balance</th>\n      <th>shot_power</th>\n      <th>jumping</th>\n      <th>stamina</th>\n      <th>strength</th>\n      <th>long_shots</th>\n      <th>aggression</th>\n      <th>interceptions</th>\n      <th>positioning</th>\n      <th>vision</th>\n      <th>penalties</th>\n      <th>composure</th>\n      <th>marking</th>\n      <th>standing_tackle</th>\n      <th>work_rate_att_Low</th>\n      <th>work_rate_att_Medium</th>\n      <th>work_rate_def_Low</th>\n      <th>work_rate_def_Medium</th>\n      <th>preferred_foot_Right</th>\n    </tr>\n  </thead>\n  <tbody>\n    <tr>\n      <th>0</th>\n      <td>32</td>\n      <td>185.0</td>\n      <td>80.0</td>\n      <td>94</td>\n      <td>90</td>\n      <td>93</td>\n      <td>82</td>\n      <td>90</td>\n      <td>33</td>\n      <td>80</td>\n      <td>5</td>\n      <td>5</td>\n      <td>4</td>\n      <td>85</td>\n      <td>94</td>\n      <td>88</td>\n      <td>83</td>\n      <td>88</td>\n      <td>91</td>\n      <td>81</td>\n      <td>76</td>\n      <td>77</td>\n      <td>93</td>\n      <td>89</td>\n      <td>91</td>\n      <td>89</td>\n      <td>96</td>\n      <td>63</td>\n      <td>94</td>\n      <td>95</td>\n      <td>92</td>\n      <td>80</td>\n      <td>92</td>\n      <td>63</td>\n      <td>29</td>\n      <td>95</td>\n      <td>85</td>\n      <td>85.0</td>\n      <td>95.0</td>\n      <td>22.0</td>\n      <td>31.0</td>\n      <td>0</td>\n      <td>0</td>\n      <td>1</td>\n      <td>0</td>\n      <td>1</td>\n    </tr>\n    <tr>\n      <th>1</th>\n      <td>30</td>\n      <td>170.0</td>\n      <td>72.0</td>\n      <td>93</td>\n      <td>89</td>\n      <td>90</td>\n      <td>86</td>\n      <td>96</td>\n      <td>26</td>\n      <td>61</td>\n      <td>5</td>\n      <td>4</td>\n      <td>4</td>\n      <td>77</td>\n      <td>95</td>\n      <td>71</td>\n      <td>88</td>\n      <td>85</td>\n      <td>97</td>\n      <td>89</td>\n      <td>90</td>\n      <td>87</td>\n      <td>95</td>\n      <td>92</td>\n      <td>87</td>\n      <td>90</td>\n      <td>95</td>\n      <td>95</td>\n      <td>85</td>\n      <td>68</td>\n      <td>73</td>\n      <td>59</td>\n      <td>88</td>\n      <td>48</td>\n      <td>22</td>\n      <td>93</td>\n      <td>90</td>\n      <td>78.0</td>\n      <td>96.0</td>\n      <td>13.0</td>\n      <td>28.0</td>\n      <td>0</td>\n      <td>1</td>\n      <td>0</td>\n      <td>1</td>\n      <td>0</td>\n    </tr>\n    <tr>\n      <th>2</th>\n      <td>25</td>\n      <td>175.0</td>\n      <td>68.0</td>\n      <td>92</td>\n      <td>92</td>\n      <td>84</td>\n      <td>79</td>\n      <td>95</td>\n      <td>30</td>\n      <td>60</td>\n      <td>5</td>\n      <td>5</td>\n      <td>5</td>\n      <td>75</td>\n      <td>89</td>\n      <td>62</td>\n      <td>81</td>\n      <td>83</td>\n      <td>96</td>\n      <td>81</td>\n      <td>84</td>\n      <td>75</td>\n      <td>95</td>\n      <td>94</td>\n      <td>90</td>\n      <td>96</td>\n      <td>88</td>\n      <td>82</td>\n      <td>80</td>\n      <td>61</td>\n      <td>78</td>\n      <td>53</td>\n      <td>77</td>\n      <td>56</td>\n      <td>36</td>\n      <td>90</td>\n      <td>80</td>\n      <td>81.0</td>\n      <td>92.0</td>\n      <td>21.0</td>\n      <td>24.0</td>\n      <td>0</td>\n      <td>0</td>\n      <td>0</td>\n      <td>1</td>\n      <td>1</td>\n    </tr>\n    <tr>\n      <th>3</th>\n      <td>30</td>\n      <td>182.0</td>\n      <td>86.0</td>\n      <td>92</td>\n      <td>82</td>\n      <td>90</td>\n      <td>79</td>\n      <td>87</td>\n      <td>42</td>\n      <td>81</td>\n      <td>5</td>\n      <td>4</td>\n      <td>4</td>\n      <td>77</td>\n      <td>94</td>\n      <td>77</td>\n      <td>83</td>\n      <td>88</td>\n      <td>86</td>\n      <td>86</td>\n      <td>84</td>\n      <td>64</td>\n      <td>91</td>\n      <td>88</td>\n      <td>77</td>\n      <td>86</td>\n      <td>93</td>\n      <td>60</td>\n      <td>87</td>\n      <td>69</td>\n      <td>89</td>\n      <td>80</td>\n      <td>86</td>\n      <td>78</td>\n      <td>41</td>\n      <td>92</td>\n      <td>84</td>\n      <td>85.0</td>\n      <td>83.0</td>\n      <td>30.0</td>\n      <td>45.0</td>\n      <td>0</td>\n      <td>0</td>\n      <td>0</td>\n      <td>1</td>\n      <td>1</td>\n    </tr>\n    <tr>\n      <th>4</th>\n      <td>31</td>\n      <td>193.0</td>\n      <td>92.0</td>\n      <td>92</td>\n      <td>91</td>\n      <td>90</td>\n      <td>95</td>\n      <td>89</td>\n      <td>60</td>\n      <td>91</td>\n      <td>5</td>\n      <td>1</td>\n      <td>4</td>\n      <td>15</td>\n      <td>13</td>\n      <td>25</td>\n      <td>55</td>\n      <td>11</td>\n      <td>30</td>\n      <td>14</td>\n      <td>11</td>\n      <td>59</td>\n      <td>48</td>\n      <td>58</td>\n      <td>61</td>\n      <td>52</td>\n      <td>85</td>\n      <td>35</td>\n      <td>25</td>\n      <td>78</td>\n      <td>44</td>\n      <td>83</td>\n      <td>16</td>\n      <td>29</td>\n      <td>30</td>\n      <td>12</td>\n      <td>70</td>\n      <td>47.0</td>\n      <td>70.0</td>\n      <td>10.0</td>\n      <td>10.0</td>\n      <td>0</td>\n      <td>1</td>\n      <td>0</td>\n      <td>1</td>\n      <td>1</td>\n    </tr>\n    <tr>\n      <th>...</th>\n      <td>...</td>\n      <td>...</td>\n      <td>...</td>\n      <td>...</td>\n      <td>...</td>\n      <td>...</td>\n      <td>...</td>\n      <td>...</td>\n      <td>...</td>\n      <td>...</td>\n      <td>...</td>\n      <td>...</td>\n      <td>...</td>\n      <td>...</td>\n      <td>...</td>\n      <td>...</td>\n      <td>...</td>\n      <td>...</td>\n      <td>...</td>\n      <td>...</td>\n      <td>...</td>\n      <td>...</td>\n      <td>...</td>\n      <td>...</td>\n      <td>...</td>\n      <td>...</td>\n      <td>...</td>\n      <td>...</td>\n      <td>...</td>\n      <td>...</td>\n      <td>...</td>\n      <td>...</td>\n      <td>...</td>\n      <td>...</td>\n      <td>...</td>\n      <td>...</td>\n      <td>...</td>\n      <td>...</td>\n      <td>...</td>\n      <td>...</td>\n      <td>...</td>\n      <td>...</td>\n      <td>...</td>\n      <td>...</td>\n      <td>...</td>\n      <td>...</td>\n    </tr>\n    <tr>\n      <th>11755</th>\n      <td>21</td>\n      <td>184.0</td>\n      <td>68.0</td>\n      <td>64</td>\n      <td>68</td>\n      <td>51</td>\n      <td>65</td>\n      <td>58</td>\n      <td>43</td>\n      <td>60</td>\n      <td>1</td>\n      <td>3</td>\n      <td>2</td>\n      <td>60</td>\n      <td>55</td>\n      <td>42</td>\n      <td>73</td>\n      <td>37</td>\n      <td>55</td>\n      <td>31</td>\n      <td>33</td>\n      <td>70</td>\n      <td>59</td>\n      <td>70</td>\n      <td>66</td>\n      <td>69</td>\n      <td>56</td>\n      <td>68</td>\n      <td>52</td>\n      <td>55</td>\n      <td>56</td>\n      <td>63</td>\n      <td>40</td>\n      <td>59</td>\n      <td>63</td>\n      <td>65</td>\n      <td>70</td>\n      <td>58.0</td>\n      <td>42.0</td>\n      <td>35.0</td>\n      <td>39.0</td>\n      <td>0</td>\n      <td>1</td>\n      <td>0</td>\n      <td>1</td>\n      <td>1</td>\n    </tr>\n    <tr>\n      <th>11756</th>\n      <td>28</td>\n      <td>189.0</td>\n      <td>80.0</td>\n      <td>64</td>\n      <td>67</td>\n      <td>62</td>\n      <td>56</td>\n      <td>66</td>\n      <td>55</td>\n      <td>61</td>\n      <td>1</td>\n      <td>1</td>\n      <td>3</td>\n      <td>5</td>\n      <td>6</td>\n      <td>29</td>\n      <td>39</td>\n      <td>13</td>\n      <td>10</td>\n      <td>18</td>\n      <td>9</td>\n      <td>29</td>\n      <td>16</td>\n      <td>56</td>\n      <td>55</td>\n      <td>52</td>\n      <td>63</td>\n      <td>51</td>\n      <td>53</td>\n      <td>58</td>\n      <td>27</td>\n      <td>72</td>\n      <td>10</td>\n      <td>17</td>\n      <td>16</td>\n      <td>13</td>\n      <td>43</td>\n      <td>40.0</td>\n      <td>48.0</td>\n      <td>16.0</td>\n      <td>19.0</td>\n      <td>0</td>\n      <td>1</td>\n      <td>0</td>\n      <td>1</td>\n      <td>1</td>\n    </tr>\n    <tr>\n      <th>11757</th>\n      <td>29</td>\n      <td>173.0</td>\n      <td>70.0</td>\n      <td>64</td>\n      <td>62</td>\n      <td>38</td>\n      <td>55</td>\n      <td>69</td>\n      <td>63</td>\n      <td>64</td>\n      <td>1</td>\n      <td>2</td>\n      <td>3</td>\n      <td>58</td>\n      <td>25</td>\n      <td>61</td>\n      <td>61</td>\n      <td>22</td>\n      <td>68</td>\n      <td>25</td>\n      <td>33</td>\n      <td>58</td>\n      <td>65</td>\n      <td>64</td>\n      <td>60</td>\n      <td>85</td>\n      <td>66</td>\n      <td>74</td>\n      <td>55</td>\n      <td>69</td>\n      <td>65</td>\n      <td>62</td>\n      <td>45</td>\n      <td>65</td>\n      <td>64</td>\n      <td>55</td>\n      <td>50</td>\n      <td>55.0</td>\n      <td>69.0</td>\n      <td>64.0</td>\n      <td>61.0</td>\n      <td>1</td>\n      <td>0</td>\n      <td>0</td>\n      <td>1</td>\n      <td>1</td>\n    </tr>\n    <tr>\n      <th>11758</th>\n      <td>19</td>\n      <td>178.0</td>\n      <td>74.0</td>\n      <td>64</td>\n      <td>69</td>\n      <td>40</td>\n      <td>57</td>\n      <td>61</td>\n      <td>62</td>\n      <td>65</td>\n      <td>1</td>\n      <td>2</td>\n      <td>2</td>\n      <td>63</td>\n      <td>38</td>\n      <td>54</td>\n      <td>62</td>\n      <td>36</td>\n      <td>60</td>\n      <td>40</td>\n      <td>33</td>\n      <td>55</td>\n      <td>60</td>\n      <td>70</td>\n      <td>69</td>\n      <td>65</td>\n      <td>64</td>\n      <td>61</td>\n      <td>54</td>\n      <td>61</td>\n      <td>66</td>\n      <td>70</td>\n      <td>32</td>\n      <td>54</td>\n      <td>58</td>\n      <td>39</td>\n      <td>55</td>\n      <td>43.0</td>\n      <td>44.0</td>\n      <td>63.0</td>\n      <td>65.0</td>\n      <td>0</td>\n      <td>1</td>\n      <td>0</td>\n      <td>1</td>\n      <td>1</td>\n    </tr>\n    <tr>\n      <th>11759</th>\n      <td>25</td>\n      <td>178.0</td>\n      <td>75.0</td>\n      <td>64</td>\n      <td>43</td>\n      <td>33</td>\n      <td>43</td>\n      <td>32</td>\n      <td>67</td>\n      <td>65</td>\n      <td>1</td>\n      <td>2</td>\n      <td>3</td>\n      <td>49</td>\n      <td>18</td>\n      <td>52</td>\n      <td>54</td>\n      <td>23</td>\n      <td>20</td>\n      <td>15</td>\n      <td>43</td>\n      <td>43</td>\n      <td>37</td>\n      <td>44</td>\n      <td>42</td>\n      <td>45</td>\n      <td>59</td>\n      <td>65</td>\n      <td>52</td>\n      <td>65</td>\n      <td>68</td>\n      <td>64</td>\n      <td>47</td>\n      <td>65</td>\n      <td>65</td>\n      <td>23</td>\n      <td>26</td>\n      <td>47.0</td>\n      <td>57.0</td>\n      <td>70.0</td>\n      <td>68.0</td>\n      <td>0</td>\n      <td>1</td>\n      <td>0</td>\n      <td>1</td>\n      <td>1</td>\n    </tr>\n  </tbody>\n</table>\n<p>11760 rows × 46 columns</p>\n</div>"
     },
     "metadata": {},
     "output_type": "execute_result",
     "execution_count": 36
    }
   ],
   "source": [
    "model_data = pd.read_csv(\"footballer_data.csv\")\n",
    "model_data = model_data.drop(columns=[\"ID\", \"club\", \"club_logo\", \"birth_date\", \"flag\", \"nationality\", \"photo\", \"potential\"])\n",
    "model_data = pd.get_dummies(model_data, drop_first=True, columns=[\"work_rate_att\", \"work_rate_def\", \"preferred_foot\"])\n",
    "\n",
    "# Check for NaN\n",
    "for (columnName, columnData) in model_data.iteritems(): \n",
    "    model_data = model_data[~np.isnan(model_data[columnName])]\n",
    "    \n",
    "#model_data = model_data.drop([11760])\n",
    "model_data #.head()"
   ]
  },
  {
   "cell_type": "markdown",
   "metadata": {},
   "source": [
    "### Question 2: /10 pts\n",
    "\n",
    "The data should all be numerical now. To evaluate different models, define a function that returns the mean absolute error. Before we begin modelling, it is important to obtain a baseline for the accuracy of our predictive models. Compute the absolute errors resulting if we use the median of the `overall` variable to make predictions. This will serve as our baseline performance. Plot the distribution of the errors and print their mean and standard deviation."
   ]
  },
  {
   "cell_type": "code",
   "execution_count": 37,
   "metadata": {
    "pycharm": {
     "is_executing": false
    }
   },
   "outputs": [
    {
     "name": "stdout",
     "text": [
      "Standard Deviation: 3.107416372332679\n",
      "The mean absolute error is: 3.6904761904761907\nThe standard deviation absolute error is: 3.107416372332679 \n\n"
     ],
     "output_type": "stream"
    },
    {
     "name": "stderr",
     "text": [
      "c:\\users\\owner\\appdata\\local\\programs\\python\\python37-32\\lib\\site-packages\\seaborn\\distributions.py:2551: FutureWarning: `distplot` is a deprecated function and will be removed in a future version. Please adapt your code to use either `displot` (a figure-level function with similar flexibility) or `histplot` (an axes-level function for histograms).\n  warnings.warn(msg, FutureWarning)\n"
     ],
     "output_type": "stream"
    },
    {
     "data": {
      "text/plain": "<Figure size 432x288 with 1 Axes>",
      "image/png": "[encoded data removed]"
     },
     "metadata": {
      "needs_background": "light"
     },
     "output_type": "display_data"
    }
   ],
   "source": [
    "# Define mean absolute error function  \n",
    "def mean_abs_error(y_pred, y_true):\n",
    "    return np.mean(np.abs(y_pred - y_true))\n",
    "\n",
    "# Define standard deviation absolute error function \n",
    "def std_abs_error(y_pred, y_true):\n",
    "    return np.std(np.abs(y_pred - y_true), ddof=1)\n",
    "\n",
    " \n",
    "# Get mean and std of test loss \n",
    "y_true = model_data.overall.values\n",
    "y_pred_baseline = np.repeat(np.median(y_true), y_true.shape)\n",
    "\n",
    "mean_abs_error_baseline = mean_abs_error(y_pred_baseline, y_true)\n",
    "std_abs_error_baseline = std_abs_error(y_pred_baseline, y_true)\n",
    "\n",
    "# Output \n",
    "print(f\"Standard Deviation: {std_abs_error_baseline}\")\n",
    "\n",
    "# Plot distribution \n",
    "def error_plot(y_pred, y_true, title=\"\"):\n",
    "    abs_error = abs(y_pred - y_true)\n",
    "    hist = sns.distplot(abs_error)\n",
    "    hist.set_title(f\"Error Distribution {title}\")\n",
    "    hist.set_xlabel(\"Error Value\")\n",
    "    hist.set_ylabel(\"Absolute Error\")\n",
    "    \n",
    "    print(f\"The mean absolute error is: {mean_abs_error(y_pred, y_true)}\")\n",
    "    print(f\"The standard deviation absolute error is: {std_abs_error(y_pred, y_true)} \\n\")\n",
    "    \n",
    "\n",
    "error_plot(y_pred_baseline, y_true)\n",
    "\n"
   ]
  },
  {
   "cell_type": "markdown",
   "metadata": {},
   "source": [
    "### Question 3: /15pts\n",
    "To prepare the data for modelling, the Senior Data Scientist recommends you use `sklearn.model_selection.train_test_split` to seperate the data into a training set and a test set.\n",
    "\n",
    "The Senior Data Scientist would like to estimate the performance of the final selected model to within +/- 0.25 units using mean absolute error as the loss function of choice.  \n",
    "\n",
    "Using the formula for the effective test size ($n$) to get the precision to specific precision ($d$) relative to the test loss standard deviation of $\\sigma_l$\n",
    "$$ n = \\left(\\frac{1.96 \\sigma_l}{d}\\right)^2$$,\n",
    "\n",
    "decide on an appropriate size for the test set, then use `train_test_split` to split the features and target variables into appropriate sets."
   ]
  },
  {
   "cell_type": "code",
   "execution_count": 38,
   "metadata": {
    "pycharm": {
     "is_executing": false
    }
   },
   "outputs": [],
   "source": [
    "x_data = model_data.drop(columns=[\"overall\"])\n",
    "y_data = model_data.overall\n",
    "\n",
    "test_size = int(round((1.96 * std_abs_error_baseline / 0.25) ** 2)) \n",
    "x_train, x_test, y_train, y_test = train_test_split(x_data, y_data, test_size = test_size, random_state = 0)\n"
   ]
  },
  {
   "cell_type": "markdown",
   "metadata": {},
   "source": [
    "### Question 4: /5pts\n",
    "The Senior Data Scientist wants you to fit a linear regression to the data as a first model.  Use sklearn to build a model pipeline which fits a linear regression to the data. You can read up on sklearn pipelines [here](https://scikit-learn.org/stable/modules/generated/sklearn.pipeline.Pipeline.html). Note that the sklearn linear regression adds its own intercept so you don't need to create a column of 1s."
   ]
  },
  {
   "cell_type": "code",
   "execution_count": 39,
   "metadata": {
    "pycharm": {
     "is_executing": false,
     "name": "#%%\n"
    }
   },
   "outputs": [
    {
     "name": "stderr",
     "text": [
      "c:\\users\\owner\\appdata\\local\\programs\\python\\python37-32\\lib\\site-packages\\seaborn\\distributions.py:2551: FutureWarning: `distplot` is a deprecated function and will be removed in a future version. Please adapt your code to use either `displot` (a figure-level function with similar flexibility) or `histplot` (an axes-level function for histograms).\n  warnings.warn(msg, FutureWarning)\n"
     ],
     "output_type": "stream"
    },
    {
     "name": "stdout",
     "text": [
      "The mean absolute error is: 1.6938979147945026\nThe standard deviation absolute error is: 1.2817670231371594 \n\n"
     ],
     "output_type": "stream"
    },
    {
     "data": {
      "text/plain": "<Figure size 432x288 with 1 Axes>",
      "image/png": "[encoded data removed]"
     },
     "metadata": {
      "needs_background": "light"
     },
     "output_type": "display_data"
    }
   ],
   "source": [
    "linear_pipeline = Pipeline([('linear_regression', LinearRegression())])\n",
    "linear_pipeline.fit(x_train, y_train)\n",
    "error_plot(linear_pipeline.predict(x_test), y_test)"
   ]
  },
  {
   "cell_type": "markdown",
   "metadata": {},
   "source": [
    "### Question 5: /15pts\n",
    "\n",
    "The senior data scientist wants a report of this model's cross validation score.  Use 5 fold cross validation to estimate the out of sample performance for this model, using your mean absolute error function from question 2.  "
   ]
  },
  {
   "cell_type": "code",
   "execution_count": 40,
   "metadata": {
    "pycharm": {
     "is_executing": false
    }
   },
   "outputs": [
    {
     "name": "stdout",
     "text": [
      "Training loss: 1.6725902600726814 \n\n"
     ],
     "output_type": "stream"
    }
   ],
   "source": [
    "train_loss = mean_abs_error(y_train, linear_pipeline.predict(x_train))\n",
    "print(f\"Training loss: {train_loss} \\n\")\n",
    "\n",
    "# From Lab:\n",
    "sc1 = make_scorer(mean_abs_error)\n",
    "sc2 = make_scorer(std_abs_error)\n",
    "\n",
    "# Default is 5 fold validation\n",
    "linear_mean_cv_scores = cross_val_score(linear_pipeline, x_train, y_train, scoring=sc1)\n",
    "linear_std_cv_scores = cross_val_score(linear_pipeline, x_train, y_train, scoring=sc1)\n",
    "\n",
    "# Output"
   ]
  },
  {
   "cell_type": "markdown",
   "metadata": {},
   "source": [
    "### Question 6: /15pts\n",
    "\n",
    "That's impressive!  Your model seems to be very accurate, but now the Senior Data Scientist wants to try and make it more accurate.  Scouts have shared with the Senior Data Scientist that players hit their prime in their late 20s, and as they age they become worse overall.\n",
    "\n",
    "The Senior Data Scientist wants to add a quadratic term for age to the model.  Repeat the steps above (creating a pipeline, validating the model, etc) for a model which includes a quadratic term for age. As in the Lab, include the addition of the quadratic term for Age as a Transform into the pipeline. "
   ]
  },
  {
   "cell_type": "code",
   "execution_count": 41,
   "metadata": {
    "pycharm": {
     "is_executing": false,
     "name": "#%%\n"
    }
   },
   "outputs": [
    {
     "name": "stderr",
     "text": [
      "c:\\users\\owner\\appdata\\local\\programs\\python\\python37-32\\lib\\site-packages\\seaborn\\distributions.py:2551: FutureWarning: `distplot` is a deprecated function and will be removed in a future version. Please adapt your code to use either `displot` (a figure-level function with similar flexibility) or `histplot` (an axes-level function for histograms).\n  warnings.warn(msg, FutureWarning)\n"
     ],
     "output_type": "stream"
    },
    {
     "name": "stdout",
     "text": [
      "The mean absolute error is: 1.6914152090819157\nThe standard deviation absolute error is: 1.2829470373658658 \n\nTraining loss: 1.667192624449046\n",
      "Mean Cross Validation Loss: 1.6743106230152787\nCross Validation Loss: [1.69397209 1.70174502 1.6455966  1.66731468 1.66292472]\n"
     ],
     "output_type": "stream"
    },
    {
     "data": {
      "text/plain": "<Figure size 432x288 with 1 Axes>",
      "image/png": "[encoded data removed]"
     },
     "metadata": {
      "needs_background": "light"
     },
     "output_type": "display_data"
    }
   ],
   "source": [
    "# From Lab:\n",
    "class square_age(BaseEstimator,TransformerMixin):  \n",
    "    def fit(self,X,y=None):\n",
    "        return self\n",
    "    \n",
    "    def transform(self,X,y=None):\n",
    "        X = X.assign(age2 = X.age**2)\n",
    "        return X\n",
    "\n",
    "quadratic_pipeline = Pipeline([\n",
    "    ('age2', square_age()),\n",
    "    ('linear_regression', LinearRegression())\n",
    "])\n",
    "quadratic_pipeline.fit(x_train, y_train)\n",
    "\n",
    "error_plot(quadratic_pipeline.predict(x_test), y_test)\n",
    "sc = make_scorer(mean_abs_error)\n",
    "\n",
    "train_loss = mean_abs_error(y_train, quadratic_pipeline.predict(x_train))\n",
    "print(f\"Training loss: {train_loss}\")\n",
    "\n",
    "quadratic_cv_scores = cross_val_score(quadratic_pipeline, x_train, y_train, scoring=sc)\n",
    "print(f\"Mean Cross Validation Loss: {quadratic_cv_scores.mean()}\")\n",
    "print(f\"Cross Validation Loss: {quadratic_cv_scores}\")"
   ]
  },
  {
   "cell_type": "markdown",
   "metadata": {},
   "source": [
    "### Question 7: /10 pts\n",
    "\n",
    "\n",
    "The Senior Data Scientist isn't too happy that the quadratic term has not improved the fit of the model much and now wants to include quadratic and interaction term for every feature (That's a total of 1080 features!!!!)\n",
    "\n",
    "Add sklearn's `PolynomialFeatures` to your pipeline.  Report the cross validation score."
   ]
  },
  {
   "cell_type": "code",
   "execution_count": 42,
   "metadata": {
    "pycharm": {
     "is_executing": false
    }
   },
   "outputs": [
    {
     "name": "stderr",
     "text": [
      "c:\\users\\owner\\appdata\\local\\programs\\python\\python37-32\\lib\\site-packages\\seaborn\\distributions.py:2551: FutureWarning: `distplot` is a deprecated function and will be removed in a future version. Please adapt your code to use either `displot` (a figure-level function with similar flexibility) or `histplot` (an axes-level function for histograms).\n  warnings.warn(msg, FutureWarning)\n"
     ],
     "output_type": "stream"
    },
    {
     "name": "stdout",
     "text": [
      "The mean absolute error is: 0.8125238615878563\nThe standard deviation absolute error is: 0.7086126249569823 \n\n",
      "Training loss: 0.7446383568242396\n",
      "Mean Cross Validation Loss: 0.8400609728065174\nCross Validation Loss: [0.85032765 0.80807531 0.82669291 0.84993848 0.86527051]\n"
     ],
     "output_type": "stream"
    },
    {
     "data": {
      "text/plain": "<Figure size 432x288 with 1 Axes>",
      "image/png": "[encoded data removed]"
     },
     "metadata": {
      "needs_background": "light"
     },
     "output_type": "display_data"
    }
   ],
   "source": [
    "linear_poly_pipeline = Pipeline([('poly_feature', PolynomialFeatures(degree=2)),('linear_regression', LinearRegression())])\n",
    "linear_poly_pipeline.fit(x_train, y_train)\n",
    "error_plot(linear_poly_pipeline.predict(x_test), y_test)\n",
    "\n",
    "sc = make_scorer(mean_abs_error)\n",
    "train_loss = mean_abs_error(y_train, linear_poly_pipeline.predict(x_train))\n",
    "print(f\"Training loss: {train_loss}\")\n",
    "\n",
    "linear_poly_cv_scores = cross_val_score(linear_poly_pipeline, x_train, y_train, scoring=sc)\n",
    "print(f\"Mean Cross Validation Loss: {linear_poly_cv_scores.mean()}\")\n",
    "print(f\"Cross Validation Loss: {linear_poly_cv_scores}\")"
   ]
  },
  {
   "cell_type": "markdown",
   "metadata": {},
   "source": [
    "### Question 8: /10pts\n",
    "\n",
    "The Senior Data Scientist is really happy with the results of adding every interaction into the model and wants to explore third order interactions (that is adding cubic terms to the model).\n",
    "\n",
    "This is not a good idea!  Talk them down from the ledge.  Write them an email in the cell below explaining what could happen if you add too may interactions.\n",
    "\n",
    "---"
   ]
  },
  {
   "cell_type": "markdown",
   "metadata": {},
   "source": [
    "Hey Boss,\n",
    "\n",
    "Adding third order interaction is not a good and overfitting would result. \n",
    "Overfitting would cause the make the model to appear more accurate by decreasing the training error, but however, would increase the test error beyond the nominal point\n",
    "In addition, lower for higher order models would be more computational intensive and the computer might not even be able to compute it. \n",
    "\n",
    "Sincerly,\n",
    "\n",
    "Junior Data Scientist\n",
    "\n"
   ]
  },
  {
   "cell_type": "markdown",
   "metadata": {},
   "source": [
    "### Question 9:  /10pts\n",
    "\n",
    "You've successfully talked the Senior Data Scientist out of adding cubic terms to the model. Good job!\n",
    "\n",
    "Based on the cross validation scores, which model would you choose?  \n",
    "Train you model on all the training data. \n",
    "Estimate the performance of your chosen model on the test data you held out, and do the following:\n",
    "\n",
    "- Compute a point estimate for the generalization error.\n",
    "- Compute a confidence interval for the generalization error.  \n",
    "- Plot the distribution of the absolute errors.\n",
    "\n",
    "Is the test error close to the cross validation error of the model you chose? Why do you think this is the case?\n",
    "\n",
    "**ANSWER:**  \n",
    "The model chosen was the model in question 7. \n",
    "The test error is the closest to the cross validation error of all the models. \n",
    "Lower complexity model have poor bias and higher complexity models have high variance.\n",
    "This model has the a good trade off between the variance and the bias. \n",
    "This trade off minimizes the cross validation error."
   ]
  },
  {
   "cell_type": "code",
   "execution_count": 43,
   "metadata": {
    "pycharm": {
     "is_executing": false
    }
   },
   "outputs": [
    {
     "name": "stderr",
     "text": [
      "c:\\users\\owner\\appdata\\local\\programs\\python\\python37-32\\lib\\site-packages\\seaborn\\distributions.py:2551: FutureWarning: `distplot` is a deprecated function and will be removed in a future version. Please adapt your code to use either `displot` (a figure-level function with similar flexibility) or `histplot` (an axes-level function for histograms).\n  warnings.warn(msg, FutureWarning)\n"
     ],
     "output_type": "stream"
    },
    {
     "name": "stdout",
     "text": [
      "The mean absolute error is: 0.8125238615878563\nThe standard deviation absolute error is: 0.7086126249569823 \n\nPoint estimate error confidence interval: [0.7554218955643694, 0.8696258276113431]\n"
     ],
     "output_type": "stream"
    },
    {
     "data": {
      "text/plain": "<Figure size 432x288 with 1 Axes>",
      "image/png": "[encoded data removed]"
     },
     "metadata": {
      "needs_background": "light"
     },
     "output_type": "display_data"
    }
   ],
   "source": [
    "linear_poly_pipeline = Pipeline([('poly_features', PolynomialFeatures(degree=2)),('LR', LinearRegression())])\n",
    "linear_poly_pipeline.fit(x_train, y_train)\n",
    "\n",
    "y_pred_poly = linear_poly_pipeline.predict(x_test)\n",
    "point_estimate = mean_abs_error(y_pred_poly, y_test) \n",
    "\n",
    "point_estimate_std = std_abs_error(y_pred_poly, y_test)\n",
    "offset = t.ppf((1 + 0.95)/2, df= y_test.size - 1) * (point_estimate_std/np.sqrt(y_test.size))\n",
    "bounds = [point_estimate - offset, point_estimate + offset]\n",
    "\n",
    "error_plot(y_test,linear_poly_pipeline.predict(x_test), 'Final Regression')\n",
    "print(f\"Point estimate error confidence interval: {bounds}\")\n"
   ]
  },
  {
   "cell_type": "code",
   "execution_count": 44,
   "outputs": [
    {
     "name": "stdout",
     "text": [
      "None\nNone\nNone\nNone\nNone\nNone\nNone\n"
     ],
     "output_type": "stream"
    }
   ],
   "source": [
    "# Test Cases:\n",
    "# 7/7 Passed\n",
    "\n",
    "class PublicTests: \n",
    "    \n",
    "    # model_data is the variable used to store the data after dropping the columns and applying the \n",
    "    # categorization of the variables\n",
    "    def test_modelData_q1(model_data):\n",
    "        assert model_data.shape[1] == 46\n",
    "        \n",
    "    # loss represents the absolute error\n",
    "    def test_lossVal_q2(loss):\n",
    "        assert loss[22] == 19\n",
    "        \n",
    "    # To check if the formula is applied as stated\n",
    "    def test_testData_q3(Xtest):\n",
    "        assert Xtest.shape[0] == 594\n",
    "        \n",
    "    def test_cvScore_q5(cv_score):\n",
    "        assert round(cv_score[4], 2) == 1.66\n",
    "        \n",
    "    def test_cvScore_q6(cv_score):\n",
    "        assert round(cv_score[2], 2) == 1.65\n",
    "    \n",
    "    def test_cvScore_q7(cv_score):\n",
    "        assert round(cv_score[2], 2) == 0.83\n",
    "        \n",
    "    def test_testError_q9(test_errors):\n",
    "        assert round(test_errors.values[13], 2) == 0.71      \n",
    "\n",
    "print(PublicTests.test_modelData_q1(model_data))\n",
    "print(PublicTests.test_lossVal_q2(abs(model_data.overall.values - y_pred_baseline)))\n",
    "print(PublicTests.test_testData_q3(x_test))      \n",
    "print(PublicTests.test_cvScore_q5(linear_mean_cv_scores))      \n",
    "print(PublicTests.test_cvScore_q6(quadratic_cv_scores))  \n",
    "print(PublicTests.test_cvScore_q7(linear_poly_cv_scores))        \n",
    "print(PublicTests.test_testError_q9(abs(y_test-linear_poly_pipeline.predict(x_test))))"
   ],
   "metadata": {
    "collapsed": false,
    "pycharm": {
     "name": "#%%\n",
     "is_executing": false
    }
   }
  }
 ],
 "metadata": {
  "kernelspec": {
   "display_name": "Python 3",
   "language": "python",
   "name": "python3"
  },
  "language_info": {
   "codemirror_mode": {
    "name": "ipython",
    "version": 3
   },
   "file_extension": ".py",
   "mimetype": "text/x-python",
   "name": "python",
   "nbconvert_exporter": "python",
   "pygments_lexer": "ipython3",
   "version": "3.7.4"
  },
  "pycharm": {
   "stem_cell": {
    "cell_type": "raw",
    "source": [],
    "metadata": {
     "collapsed": false
    }
   }
  }
 },
 "nbformat": 4,
 "nbformat_minor": 4
}
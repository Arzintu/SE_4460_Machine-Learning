{
 "cells": [
  {
   "cell_type": "markdown",
   "source": [
    "# Grade: /100 points\n",
    "\n",
    "# Lab Assignment 01: Supervised learning, Linear models, and Loss functions\n",
    "\n",
    "In this Lab assignment, you're going to write your own methods to fit a linear model using either an OLS or LAD cost function.  \n",
    "\n",
    "## Data set \n",
    "\n",
    "For this assignment, we will examine some data representing possums in Australia and New Guinea. The data frame contains 46 observations on the following 6 variables:\n",
    "\n",
    "* sex: Sex, either m (male) or f (female).\n",
    "* age: Age in years.\n",
    "* headL: Head length, in mm.\n",
    "* skullW: Skull width, in mm.\n",
    "* totalL: Total length, in cm.\n",
    "* tailL: Tail length, in cm.\n",
    "\n",
    "## Follow These Steps before submitting\n",
    "Once you are finished, ensure to complete the following steps.\n",
    "\n",
    "1.  Restart your kernel by clicking 'Kernel' > 'Restart & Run All'.\n",
    "\n",
    "2.  Fix any errors which result from this.\n",
    "\n",
    "3.  Repeat steps 1. and 2. until your notebook runs without errors.\n",
    "\n",
    "4.  Submit your completed notebook to OWL by the deadline.\n",
    "\n",
    "\n",
    "## Preliminaries"
   ],
   "metadata": {
    "collapsed": false
   }
  },
  {
   "cell_type": "code",
   "execution_count": 1258,
   "outputs": [],
   "source": [
    "# Import all the necessary packages: \n",
    "import matplotlib.pyplot as plt \n",
    "import numpy as np\n",
    "import pandas as pd\n",
    "import scipy.stats as ss \n",
    "import scipy.optimize as so\n",
    "import statsmodels.api as sm\n",
    "import statsmodels.formula.api as smf\n",
    "\n",
    "%matplotlib inline"
   ],
   "metadata": {
    "collapsed": false,
    "pycharm": {
     "name": "#%%\n",
     "is_executing": false
    }
   }
  },
  {
   "cell_type": "markdown",
   "source": [
    "\n",
    "## Part 1\n",
    "### Question 1.1:  /10 points\n",
    "\n",
    "\n",
    "Read in the `possum.csv` file as a `pandas.DataFrame`.  Investigate the relationship between the possum's age and it's tail length by plotting a scatter plot of the `age` and `tailL` columns. You might want to add an `alpha` in case some data are overlapping. "
   ],
   "metadata": {
    "collapsed": false
   }
  },
  {
   "cell_type": "code",
   "execution_count": 1259,
   "outputs": [
    {
     "data": {
      "text/plain": "<AxesSubplot:title={'center':'Possum Tail Length vs. Age'}, xlabel='age', ylabel='tailL'>"
     },
     "metadata": {},
     "output_type": "execute_result",
     "execution_count": 1259
    },
    {
     "data": {
      "text/plain": "<Figure size 432x288 with 1 Axes>",
      "image/png": "[encoded data removed]"
     },
     "metadata": {
      "needs_background": "light"
     },
     "output_type": "display_data"
    }
   ],
   "source": [
    "# Read in the data with pandas\n",
    "possum_data = pd.read_csv('possum.csv')\n",
    "\n",
    "#Scatter plot \n",
    "possum_data.plot.scatter(x = 'age', y = 'tailL', title = 'Possum Tail Length vs. Age', alpha = 0.7)"
   ],
   "metadata": {
    "collapsed": false,
    "pycharm": {
     "name": "#%%\n",
     "is_executing": false
    }
   }
  },
  {
   "cell_type": "markdown",
   "source": [
    "### Question 1.2: /5 point\n",
    "\n",
    "Recall that the linear model, we obtain predictions by computing \n",
    "\n",
    "$$ \\hat{\\mathbf{y}} = \\mathbf{X} \\beta $$\n",
    "\n",
    "Here, $\\mathbf{X}$ is a design matrix which includes a column of ones, $\\beta$ are coefficients, and $\\mathbf{y}$ are outcomes.  Write a function `linearModelPredict` to compute linear model predictions given data and a coefficient vector.  The function should take as it's arguments a 1d-array of coefficients `b` and the design matrix `X` as a 2d-array and return linear model predictions `yp`.\n",
    "\n",
    "Test the function by setting \n",
    "\n",
    "```\n",
    "X = np.array([[1,0],[1,-1],[1,2]])\n",
    "b = np.array([0.1,0.3])\n",
    "```\n",
    "and call you function with these values! \n",
    "\n",
    "Report $\\hat{\\mathbf{y}}$. \n",
    "What is the dimensionality of the numpy-array that you get back? \n",
    "\n",
    "Hint:  Read the documentation for `np.dot` or the `@` operator in `numpy`."
   ],
   "metadata": {
    "collapsed": false
   }
  },
  {
   "cell_type": "code",
   "execution_count": 1260,
   "outputs": [
    {
     "name": "stdout",
     "text": [
      "[ 0.1 -0.2  0.7]\n[ 0.65 -0.25  1.1 ]\n"
     ],
     "output_type": "stream"
    }
   ],
   "source": [
    "def linearModelPredict(b,X):\n",
    "    yp = np.dot(X, b)\n",
    "    return yp\n",
    "\n",
    "# Input Data\n",
    "X = np.array([[1,0],[1,-1],[1,2]])\n",
    "b = np.array([0.1,0.3])\n",
    "\n",
    "# Input Data 2\n",
    "X2 = np.array([[1,1],[1,-1],[1, 2]])\n",
    "b2 = np.array([0.2,0.45])\n",
    "\n",
    "\n",
    "# Output Data\n",
    "print(linearModelPredict(b, X))\n",
    "print(linearModelPredict(b2, X2))\n",
    "\n",
    "# Report  𝐲̂  . What is the dimensionality of the numpy-array that you get back?\n",
    "# The returned 𝐲̂  is  [1x3] numpy-array\n",
    "\n",
    "# What happens when b is a 2d-array? \n",
    "# The returned 𝐲̂  would be  [2x3] numpy-array\n",
    "\n"
   ],
   "metadata": {
    "collapsed": false,
    "pycharm": {
     "name": "#%%\n",
     "is_executing": false
    }
   }
  },
  {
   "cell_type": "markdown",
   "source": [
    "### Question 1.3: /15 points\n",
    "\n",
    "Write a function `linearModelLossRSS` which computes and returns the loss function for an OLS model parameterized by $\\beta$, as well as the gradient of the loss.  The function should take as its first argument a 1d-array `beta` of coefficients for the linear model, as its second argument the design matrix `X` as a 2d-array, and as its third argument a 1d-array `y` of observed outcomes.\n",
    "\n",
    "Test the function with the values \n",
    "\n",
    "```\n",
    "X = np.array([[1,0],[1,-1],[1,2]])\n",
    "b = np.array([0.1,0.3])\n",
    "y = np.array([0,0.4,2]) \n",
    "```\n",
    "\n",
    "Report RSS and gradient. \n",
    "Written answer: To minimize the cost do you need increase or decrease the value of the parameters? "
   ],
   "metadata": {
    "collapsed": false
   }
  },
  {
   "cell_type": "code",
   "execution_count": 1261,
   "outputs": [
    {
     "name": "stdout",
     "text": [
      "(2.06, array([-3.6, -4. ]))\n(1.46, array([-3.2, -2. ]))\n(1.73, array([-3. , -3.8]))\n(3.6875, array([ 3.4, -1.3]))\n(1.1349999999999998, array([-1.6, -2. ]))\n"
     ],
     "output_type": "stream"
    }
   ],
   "source": [
    "def linearModelLossRSS(b, X, y):\n",
    "\n",
    "    yp = X @ b\n",
    "    l = sum(np.square(y-yp))\n",
    "    \n",
    "    grad = (X.T @ (y-yp)) * -2\n",
    "    return l, grad\n",
    "\n",
    "\n",
    "# Input Data OG\n",
    "X0 = np.array([[1,0],[1,-1],[1,2]])\n",
    "b01 = np.array([0.1,0.3])\n",
    "b02 = np.array([0.1,0.5])\n",
    "b03 = np.array([0.2,0.3])\n",
    "y0 = np.array([0,0.4,2])\n",
    "\n",
    "#Input Data 1\n",
    "X1 = np.array([[2,1],[3,-1],[-1, 1]])\n",
    "b1 = np.array([0.2,0.45])\n",
    "y1 = np.array([0.2,0.6, 2])\n",
    " \n",
    "\n",
    "# Input Data 2\n",
    "X2 = np.array([[1,1],[1,-1],[1, 2]])\n",
    "b2 = np.array([0.2,0.45])\n",
    "y2 = np.array([0.2,0.1, 2])\n",
    "\n",
    "\n",
    "# Output Data\n",
    "print(linearModelLossRSS(b01, X0, y0))\n",
    "print(linearModelLossRSS(b02, X0, y0))\n",
    "print(linearModelLossRSS(b03, X0, y0))\n",
    "\n",
    "print(linearModelLossRSS(b1, X1, y1))\n",
    "print(linearModelLossRSS(b2, X2, y2))"
   ],
   "metadata": {
    "collapsed": false,
    "pycharm": {
     "name": "#%%\n",
     "is_executing": false
    }
   }
  },
  {
   "cell_type": "markdown",
   "source": [
    "Written answer: \n",
    "\n",
    "The gradient outputs a negative slope for the partial derivative of both b0 nd b1. This indicates that increasing the values of b1 and b2 would minimize the loss function. The tested values confirm this assertion.\n"
   ],
   "metadata": {
    "collapsed": false
   }
  },
  {
   "cell_type": "markdown",
   "source": [
    "### Question 1.4:  /15 points. \n",
    "\n",
    "Now that you've implemented a loss function in question 3, it is now time to minimize it!\n",
    "\n",
    "Write a function `linearModelFit` to fit a linear model.  The function should take as its first argument the design matrix `X` as a 2d-array, as its second argument a 1d-array `y` of outcomes, and as its third argument a function  `lossfcn` which returns as a tuple the value of the loss, as well as the gradient of the loss. As a result, it should return the estimated betas and the R2. \n",
    "\n",
    "Test the function with the values: \n",
    "```\n",
    "X = np.array([[1,0],[1,-1],[1,2]])\n",
    "b = np.array([0.1,0.3])\n",
    "y = np.array([0,0.4,2]) \n",
    "```\n",
    "\n",
    "Report best parameters and the fitted R2. \n"
   ],
   "metadata": {
    "collapsed": false
   }
  },
  {
   "cell_type": "code",
   "execution_count": 1262,
   "outputs": [
    {
     "name": "stdout",
     "text": [
      "(array([0.6, 0.6]), 0.75)\n(array([0.1, 0.6]), -0.9141791044776115)\n(array([0.4 , 0.55]), 0.6173469387755102)\n"
     ],
     "output_type": "stream"
    }
   ],
   "source": [
    "def linearModelFit(X, y, lossfcn, b=[0,0]):\n",
    "    \n",
    "    bop = so.minimize(lossfcn, b, args=(X,y), jac=True).x\n",
    "    #r2 = pow(ss.linregress(y, X @ bop).rvalue,2)\n",
    "    \n",
    "    yp = X @ bop\n",
    "    rss = np.sum((y-yp)**2)\n",
    "    tss = np.sum((y-np.mean(y))**2)\n",
    "    r2 = 1 - (rss/tss)\n",
    "    \n",
    "    return bop, r2\n",
    "\n",
    "# Input Data OG\n",
    "X0 = np.array([[1,0],[1,-1],[1,2]])\n",
    "y0 = np.array([0,0.4,2]) \n",
    "b0 = np.array([0.1,0.3])\n",
    "\n",
    "# Input Data 1\n",
    "X1 = np.array([[2,1],[3,-1],[-1, 1]])\n",
    "y1 = np.array([0.2,0.6, 2])\n",
    "b1 = np.array([0.2,0.45])\n",
    "\n",
    "# Input Data 2\n",
    "X2 = np.array([[1,1],[1,-1],[1, 2]])\n",
    "y2 = np.array([0.2,0.1, 2])\n",
    "b2 = np.array([0.2,0.45])\n",
    "\n",
    "# Output Data\n",
    "print(linearModelFit(X0, y0, linearModelLossRSS, b0))\n",
    "print(linearModelFit(X1, y1, linearModelLossRSS,b1))\n",
    "print(linearModelFit(X2, y2, linearModelLossRSS, b2))"
   ],
   "metadata": {
    "collapsed": false,
    "pycharm": {
     "name": "#%%\n",
     "is_executing": false
    }
   }
  },
  {
   "cell_type": "markdown",
   "source": [
    "### Question 1.5: /15 points\n",
    "\n",
    "Use the above functions to fit your model to the possum data. Then use your model and the fitted parameters to make predictions along a grid of equally spaced possum ages.  \n",
    "\n",
    "Plot the data and add a line for the predicted values. You can get these by generating a new X-matrix with equally space ages (using for example np.linspace). Also report the R2 value for the fit. \n",
    "\n"
   ],
   "metadata": {
    "collapsed": false
   }
  },
  {
   "cell_type": "code",
   "execution_count": 1263,
   "outputs": [
    {
     "data": {
      "text/plain": "<Figure size 432x288 with 1 Axes>",
      "image/png": "[encoded data removed]"
     },
     "metadata": {
      "needs_background": "light"
     },
     "output_type": "display_data"
    }
   ],
   "source": [
    "# Make the design matrix using np.c_ \n",
    "y = possum_data.tailL\n",
    "x = possum_data.age\n",
    "\n",
    "# Scatter plot \n",
    "fig, ax = plt.subplots() \n",
    "ax.scatter(x,y)\n",
    "\n",
    "ax.set_title('Possum Tail Length vs. Age')\n",
    "ax.set_xlabel('Age')\n",
    "ax.set_ylabel('Tail Length')\n",
    "\n",
    "# X matrix with equally space data \n",
    "x_grid = np.linspace(x.min(), x.max(), x.size)\n",
    "Xr = np.c_[np.ones(x_grid.size), x]\n",
    "\n",
    "# Fitting function \n",
    "fit = linearModelFit(Xr, y, linearModelLossRSS)\n",
    "\n",
    "Xp = np.c_[np.ones(x_grid.size), x_grid]\n",
    "yp = Xp @ fit[0] \n",
    "\n",
    "# Plot Regression Line \n",
    "ax.plot(x_grid, yp, color='red')\n",
    "\n",
    "# Display R2 value \n",
    "ax.annotate(f'R square: {fit[1].round(2)}',\n",
    "           xy = (0.75, 0.5),\n",
    "           xycoords = 'axes fraction')\n",
    "\n",
    "plt.show()\n"
   ],
   "metadata": {
    "collapsed": false,
    "pycharm": {
     "name": "#%%\n",
     "is_executing": false
    }
   }
  },
  {
   "cell_type": "markdown",
   "source": [
    "## Part 2: LAD Regression\n",
    "\n",
    "### Question 2.1:  /15 points\n",
    "\n",
    "In the previous section, we worked with the squared loss.  Now, we'll implement a linear model with least absolute deviation loss.\n",
    "\n",
    "Write a function `linearModelLossLAD` which computes the least absolute deviation loss function for a linear model  parameterized by $\\beta$, as well as the gradient of the loss.  The function should take as its first argument a 1d-array `beta` of coefficients for the linear model, as its second argument the design matrix `X` as a 2d-array, and as its third argument a 1d-array `y` of observed outcomes.\n",
    "\n",
    "Test the function with the values \n",
    "\n",
    "```\n",
    "X = np.array([[1,0],[1,-1],[1,2]])\n",
    "b = np.array([0.1,0.3])\n",
    "y = np.array([0,0.4,2]) \n",
    "```\n",
    "\n",
    "Report RSS and gradient. "
   ],
   "metadata": {
    "collapsed": false
   }
  },
  {
   "cell_type": "code",
   "execution_count": 1264,
   "outputs": [
    {
     "name": "stdout",
     "text": [
      "(2.0, array([-1., -1.]))\n(1.7, array([-1.,  0.]))\n(2.85, array([0., 1.]))\n"
     ],
     "output_type": "stream"
    }
   ],
   "source": [
    "def linearModelLossLAD(b, X, y):\n",
    "    \n",
    "    yp = X @ b\n",
    "    l = sum(abs(y-yp))\n",
    "    grad = -np.sign((y-yp)) @ X    \n",
    "    return l, grad\n",
    "\n",
    "\n",
    "# Input OG \n",
    "X = np.array([[1,0],[1,-1],[1,2]])\n",
    "b = np.array([0.1,0.3])\n",
    "y = np.array([0,0.4,2]) \n",
    "\n",
    "# Input 1\n",
    "X2 = np.array([[2,1],[3,-1],[-1, 1]])\n",
    "b2 = np.array([0.2,0.45])\n",
    "y2 = np.array([0.2,0.6, 2])\n",
    "\n",
    "# Input 2\n",
    "X1 = np.array([[1,1],[1,-1],[1, 2]])\n",
    "b1 = np.array([0.2,0.45])\n",
    "y1 = np.array([0.2,0.1, 2])\n",
    "\n",
    "# Output data\n",
    "print(linearModelLossLAD(b, X, y))\n",
    "print(linearModelLossLAD(b1, X1, y1))\n",
    "print(linearModelLossLAD(b2, X2, y2))"
   ],
   "metadata": {
    "collapsed": false,
    "pycharm": {
     "name": "#%%\n",
     "is_executing": false
    }
   }
  },
  {
   "cell_type": "markdown",
   "source": [
    "### Question 2.2: /10 points\n",
    "\n",
    "\n",
    "Use the above functions to fit your LAD model. Use your model to make predictions along a grid of equally spaced possum ages.  Once fit, the code below will plot the fit.  The code will also print the R squared value on the plot.\n",
    "\n",
    "Written answer: What is the difference in the fit obtained with an L1 as compared to the L2 cost function? Which one has a higher R2 value? Why?  \n",
    "\n",
    "Note: If you recieve an error from the optimizer, it may be because the loss function for the LAD model is not differentiable at its minimum.  This will lead to some gradient based optimiers to fail to converge.  If this happens to you then pass `method=\"Powell\"` to `scipy.optimize.minimize`.\n",
    "\n"
   ],
   "metadata": {
    "collapsed": false
   }
  },
  {
   "cell_type": "code",
   "execution_count": 1265,
   "outputs": [
    {
     "name": "stdout",
     "text": [
      "(array([34.50470793,  0.33291433]), 0.12937096211205001)\n[34.50470793  0.33291433]\n"
     ],
     "output_type": "stream"
    },
    {
     "data": {
      "text/plain": "<Figure size 432x288 with 1 Axes>",
      "image/png": "[encoded data removed]"
     },
     "metadata": {
      "needs_background": "light"
     },
     "output_type": "display_data"
    }
   ],
   "source": [
    "y = possum_data.tailL\n",
    "x = possum_data.age\n",
    "\n",
    "\n",
    "# Scatter Plot\n",
    "fig, ax = plt.subplots() \n",
    "ax.scatter(x,y)\n",
    "\n",
    "ax.set_title('Possum Tail Length vs. Age')\n",
    "ax.set_xlabel('Age')\n",
    "ax.set_ylabel('Tail Length')\n",
    "\n",
    "# X matrix with equally space data \n",
    "x_grid = np.linspace(x.min(), x.max(), x.size)\n",
    "Xr = np.c_[np.ones(x_grid.size), x]\n",
    "Xp = np.c_[np.ones(x_grid.size), x_grid]\n",
    "\n",
    "# Optimize for both regression models \n",
    "rss = linearModelFit(Xr, y, linearModelLossRSS)\n",
    "lad = linearModelFit(Xr, y, linearModelLossLAD)\n",
    "print(lad)\n",
    "\n",
    "print(lad[0])\n",
    "# Predicted y values from regression models\n",
    "y_rss = Xp @ rss[0] \n",
    "y_lad = Xp @ lad[0]\n",
    "\n",
    "# Plot Regression Line\n",
    "ax.plot(x_grid, y_rss, color = \"red\")\n",
    "ax.plot(x_grid, y_lad, color = \"green\")\n",
    "\n",
    "#ax.plot([min(x), max(x)], [min(y_rss), max(y_rss)], color='red')\n",
    "#ax.plot([min(x), max(x)], [min(y_lad), max(y_lad)], color='green')\n",
    "\n",
    "# Display R2 value\n",
    "ax.annotate(f'RSS: {rss[1].round(2)}', xy = (0.75, 0.48), xycoords = 'axes fraction', color = 'red')\n",
    "ax.annotate(f'LAD: {lad[1].round(2)}', xy = (0.75, 0.4), xycoords = 'axes fraction', color = 'green')\n",
    "\n",
    "plt.show()"
   ],
   "metadata": {
    "collapsed": false,
    "pycharm": {
     "name": "#%%\n",
     "is_executing": false
    }
   }
  },
  {
   "cell_type": "markdown",
   "source": [
    "Written Answer:\n",
    "The LAD line of regression has a more horizontal slope. The r squared value of the LAD model is lower since it put less emphasis on outliers compared to the RSS is model. \n",
    "Putting less emphasis on the outliers will make the line fit local data better but will have a worse global data fit (r squared value)\n",
    "\n",
    "\n"
   ],
   "metadata": {
    "collapsed": false
   }
  },
  {
   "cell_type": "markdown",
   "source": [
    "### Question 2.3: /15 points\n",
    "\n",
    "Fit both an OLS model and a LAD model with `statsmodels`.  In no more than two sentences, comment on the rsquared values from `statsmodels` and the rsquared values from your models. Are they similar?\n"
   ],
   "metadata": {
    "collapsed": false
   }
  },
  {
   "cell_type": "code",
   "execution_count": 1266,
   "outputs": [
    {
     "name": "stdout",
     "text": [
      "                         QuantReg Regression Results                          \n==============================================================================\nDep. Variable:                  tailL   Pseudo R-squared:              0.03058\nModel:                       QuantReg   Bandwidth:                       2.586\nMethod:                 Least Squares   Sparsity:                        4.962\nDate:                Mon, 21 Sep 2020   No. Observations:                   46\nTime:                        02:28:29   Df Residuals:                       44\n                                        Df Model:                            1\n==============================================================================\n                 coef    std err          t      P>|t|      [0.025      0.975]\n------------------------------------------------------------------------------\nIntercept     34.5000      0.791     43.617      0.000      32.906      36.094\nage            0.3333      0.177      1.881      0.067      -0.024       0.691\n==============================================================================\nLAD: 0.12919792407688335\nOLS: 0.22286587947604075\n"
     ],
     "output_type": "stream"
    }
   ],
   "source": [
    "# LAD\n",
    "model_lad = smf.quantreg(formula=\"tailL ~ age\",data=possum_data)\n",
    "res = model_lad.fit(q=.5)\n",
    "\n",
    "# Note pseudo r squared values can only be compared to other pseudo \n",
    "print(res.summary())\n",
    "\n",
    "yp = Xr @ [34.5, 0.3333]\n",
    "rss = np.sum((y-yp)**2)\n",
    "tss = np.sum((y-np.mean(y))**2)\n",
    "lad_rsquared = 1 - (rss/tss)\n",
    "print(f'LAD: {lad_rsquared}')\n",
    "\n",
    "# OLS\n",
    "sm.OLS(x,y)\n",
    "df = pd.DataFrame({'x':x, 'y':y})\n",
    "model_ols = smf.ols('y~x', data=df).fit()\n",
    "print(f'OLS: {model_ols.rsquared}')\n"
   ],
   "metadata": {
    "collapsed": false,
    "pycharm": {
     "name": "#%%\n",
     "is_executing": false
    }
   }
  },
  {
   "cell_type": "markdown",
   "source": [
    "Written Answer:\n",
    "The r squared values calculated using the optimization function and the sm & smf libraries are almost identical.\n",
    "The optimization function gives a very good estimate while the sm & smf give the exact r squared value. \n",
    "\n",
    "\n",
    "\n"
   ],
   "metadata": {
    "collapsed": false,
    "pycharm": {
     "name": "#%% md\n",
     "is_executing": false
    }
   }
  }
 ],
 "metadata": {
  "kernelspec": {
   "display_name": "Python 3",
   "language": "python",
   "name": "python3"
  },
  "language_info": {
   "codemirror_mode": {
    "name": "ipython",
    "version": 2
   },
   "file_extension": ".py",
   "mimetype": "text/x-python",
   "name": "python",
   "nbconvert_exporter": "python",
   "pygments_lexer": "ipython2",
   "version": "2.7.6"
  },
  "pycharm": {
   "stem_cell": {
    "cell_type": "raw",
    "source": [],
    "metadata": {
     "collapsed": false
    }
   }
  }
 },
 "nbformat": 4,
 "nbformat_minor": 0
}
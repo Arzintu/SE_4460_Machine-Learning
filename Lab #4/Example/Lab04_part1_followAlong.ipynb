{
 "cells": [
  {
   "cell_type": "code",
   "execution_count": 1,
   "metadata": {
    "pycharm": {
     "is_executing": false
    }
   },
   "outputs": [],
   "source": [
    "import numpy as np\n",
    "import pandas as pd\n",
    "import matplotlib.pyplot as plt\n",
    "import seaborn as sns"
   ]
  },
  {
   "cell_type": "markdown",
   "metadata": {},
   "source": [
    "# 1. Constructing confidence intervals via central limit theorem"
   ]
  },
  {
   "cell_type": "code",
   "execution_count": 2,
   "metadata": {
    "pycharm": {
     "is_executing": false
    }
   },
   "outputs": [],
   "source": [
    "# From PTSD paper, there were 52 test cases, 42 of which were correct\n",
    "\n",
    "n = 52\n",
    "c = 42\n",
    "\n",
    "# Create array of zeros, size n\n",
    "rawdata = np.zeros(n)\n",
    "\n",
    "# Set first c elements to 1\n",
    "rawdata[range(c)] = 1\n",
    "\n",
    "# Create pandas data frame\n",
    "data = pd.DataFrame({\"Match\": rawdata})"
   ]
  },
  {
   "cell_type": "code",
   "execution_count": 3,
   "metadata": {
    "pycharm": {
     "is_executing": false
    }
   },
   "outputs": [
    {
     "name": "stdout",
     "text": [
      "Stderr: 0.055186927229187645\nNorm ci: [0.6995259303231, 0.9158586850615155]\n"
     ],
     "output_type": "stream"
    }
   ],
   "source": [
    "## Using central limit theorem, compute confidence interval\n",
    "stderr = np.std(data.Match,ddof=1)/np.sqrt(52)\n",
    "print(\"Stderr:\", stderr)\n",
    "\n",
    "# Area under a standard normal from -1.96 to 1.96 is about 95%\n",
    "critval = 1.96 \n",
    "norm_ci = [data.Match.mean() - critval*stderr,\n",
    "          data.Match.mean() + critval*stderr]\n",
    "\n",
    "print(\"Norm ci:\",norm_ci)"
   ]
  },
  {
   "cell_type": "markdown",
   "metadata": {},
   "source": [
    "# 2. Constructing confidence intervals via bootstrap"
   ]
  },
  {
   "cell_type": "code",
   "execution_count": 4,
   "metadata": {
    "pycharm": {
     "is_executing": false
    }
   },
   "outputs": [],
   "source": [
    "# Compute 10000 bootstrap datasets, compute means in each\n",
    "def createBootstrapMeans(data):\n",
    "    numboot = 10000\n",
    "    n = len(data)\n",
    "    boot_means = np.zeros(numboot)\n",
    "    np.random.seed(0)\n",
    "    for i in range(numboot):\n",
    "        d = data.sample(n,replace=True)\n",
    "        boot_means[i] = d.mean()\n",
    "    return boot_means\n"
   ]
  },
  {
   "cell_type": "code",
   "execution_count": 5,
   "metadata": {
    "pycharm": {
     "is_executing": false
    }
   },
   "outputs": [
    {
     "name": "stderr",
     "text": [
      "c:\\users\\owner\\appdata\\local\\programs\\python\\python37-32\\lib\\site-packages\\seaborn\\distributions.py:2551: FutureWarning: `distplot` is a deprecated function and will be removed in a future version. Please adapt your code to use either `displot` (a figure-level function with similar flexibility) or `histplot` (an axes-level function for histograms).\n  warnings.warn(msg, FutureWarning)\n"
     ],
     "output_type": "stream"
    },
    {
     "data": {
      "text/plain": "<AxesSubplot:ylabel='Density'>"
     },
     "metadata": {},
     "output_type": "execute_result",
     "execution_count": 5
    },
    {
     "data": {
      "text/plain": "<Figure size 432x288 with 1 Axes>",
      "image/png": "[encoded data removed]"
     },
     "metadata": {
      "needs_background": "light"
     },
     "output_type": "display_data"
    }
   ],
   "source": [
    "# Plot histogram\n",
    "bm = createBootstrapMeans(data)-data.Match.mean()\n",
    "sns.distplot(bm)"
   ]
  },
  {
   "cell_type": "code",
   "execution_count": 6,
   "metadata": {
    "pycharm": {
     "is_executing": false
    }
   },
   "outputs": [
    {
     "name": "stdout",
     "text": [
      "[-0.11538462  0.09615385]\n"
     ],
     "output_type": "stream"
    }
   ],
   "source": [
    "# Compute quantiles \n",
    "boot_quant = np.quantile(bm,[0.025,0.975])\n",
    "print(boot_quant)"
   ]
  },
  {
   "cell_type": "code",
   "execution_count": 7,
   "metadata": {
    "pycharm": {
     "is_executing": false
    }
   },
   "outputs": [
    {
     "name": "stdout",
     "text": [
      "Boot CI: [0.7115384615384616, 0.9230769230769231]\nNorm CI: [0.6995259303231, 0.9158586850615155]\n"
     ],
     "output_type": "stream"
    }
   ],
   "source": [
    "#Compute confidence interval\n",
    "boot_ci = [data.Match.mean() - boot_quant[1],\n",
    "          data.Match.mean() - boot_quant[0]]\n",
    "print(\"Boot CI:\",boot_ci)\n",
    "print(\"Norm CI:\",norm_ci)\n"
   ]
  },
  {
   "cell_type": "code",
   "execution_count": 7,
   "metadata": {
    "pycharm": {
     "is_executing": false
    }
   },
   "outputs": [],
   "source": []
  }
 ],
 "metadata": {
  "kernelspec": {
   "display_name": "Python 3",
   "language": "python",
   "name": "python3"
  },
  "language_info": {
   "codemirror_mode": {
    "name": "ipython",
    "version": 3
   },
   "file_extension": ".py",
   "mimetype": "text/x-python",
   "name": "python",
   "nbconvert_exporter": "python",
   "pygments_lexer": "ipython3",
   "version": "3.7.6"
  }
 },
 "nbformat": 4,
 "nbformat_minor": 2
}
{
 "cells": [
  {
   "cell_type": "markdown",
   "metadata": {},
   "source": [
    "\n",
    "# Grade: /20 Mark(s)\n",
    "\n",
    "# Lab Assignment 02: Maximum Likelihood\n",
    "\n",
    "\n",
    "### Maximum Likelihood\n",
    "\n",
    "The poisson distribution https://en.wikipedia.org/wiki/Poisson_distribution is a discrete probability distribution often used to describe count-based data, like how many snowflakes fall in a day.\n",
    "\n",
    "If we have count data $y$ that are influenced by a covariate or feature $x$, we can use the maximum likelihood principle to develop a regression model relating $x$ to $y$.\n",
    "\n",
    "\n",
    "\n",
    "\n",
    "### Follow These Instructions\n",
    "\n",
    "Once you are finished, ensure to complete the following steps.\n",
    "\n",
    "1.  Restart your kernel by clicking 'Kernel' > 'Restart & Run All'.\n",
    "\n",
    "2.  Fix any errors which result from this.\n",
    "\n",
    "3.  Repeat steps 1. and 2. until your notebook runs without errors.\n",
    "\n",
    "4.  Submit your completed notebook to OWL by the deadline.\n"
   ]
  },
  {
   "cell_type": "code",
   "execution_count": 747,
   "metadata": {
    "pycharm": {
     "is_executing": false
    }
   },
   "outputs": [],
   "source": [
    "#It's dangerous to go alone.  Take these!\n",
    "import numpy as np\n",
    "import matplotlib.pyplot as plt\n",
    "import pandas as pd\n",
    "import statsmodels.formula.api as sm\n",
    "from statsmodels.tools import add_constant\n",
    "from scipy.optimize import minimize\n",
    "from scipy.special import gammaln\n",
    "\n"
   ]
  },
  {
   "cell_type": "markdown",
   "metadata": {},
   "source": [
    "### Question 1: /2 Mark(s)\n",
    "\n",
    "The negative log likelihood for a Poisson random variable is\n",
    "\n",
    "$$\\ell(\\lambda; \\mathbf{y}) = -\\sum_{i=1}^N\\Bigg( y_{i}\\cdot \\ln(\\lambda) - \\lambda - \\ln(y_i!) \\Bigg)$$\n",
    "\n",
    "Here, $\\mathbf{y}$ is a vector of counts and $\\lambda$ is a scalar value.\n",
    "\n",
    "Write a function called `poissonNegLogLikelihood` that takes a vector of counts $\\mathbf{y}$ and a parameter $\\lambda$ and returns the negative log likelihood.  The $\\sum_{i} \\ln(y_i!)$ does not affect the location of the maximum, and so you can omit the $ \\ln(y_i!)$ in your function.\n",
    "\n",
    "\n",
    "Test your function by calling it with `lam = 1.3` and `y=np.array([2,1,0,0])`.\n",
    "\n",
    "What happens when you call the function when `lam=np.array([1,0.5,1,3])` and  `y=np.array([2,1,0,0])`? \n",
    "\n",
    "Answer the following below in markdown: What happens when you set an element of lam to 0 or a negative number and why? \n"
   ]
  },
  {
   "cell_type": "code",
   "execution_count": 748,
   "metadata": {
    "pycharm": {
     "is_executing": false
    }
   },
   "outputs": [
    {
     "name": "stdout",
     "text": [
      "5.106054387157472\n6.886294361119891\nnan\n1.0\n"
     ],
     "output_type": "stream"
    },
    {
     "name": "stderr",
     "text": [
      "c:\\users\\owner\\appdata\\local\\programs\\python\\python37-32\\lib\\site-packages\\ipykernel_launcher.py:6: RuntimeWarning: invalid value encountered in log\n  \n"
     ],
     "output_type": "stream"
    }
   ],
   "source": [
    "def poissonNegLogLikelihood(lam,y):\n",
    "    \n",
    "    # Read up on the gamma function to make sure you get the likelihood right!\n",
    "    \n",
    "    #neg_log_lik = -sum(np.log(lam)* y - lam)\n",
    "    neg_log_lik = -np.sum(y * np.log(lam) - lam - gammaln(y+1))\n",
    "    return neg_log_lik\n",
    "\n",
    "lam = 1.3\n",
    "y = np.array([2,1,0,0])\n",
    "\n",
    "lam2 = np.array([1,0.5,1,3]) \n",
    "y2 = np.array([2,1,0,0])\n",
    "\n",
    "lam3 = 1.0\n",
    "y3 = 1.0\n",
    "\n",
    "\n",
    "print(poissonNegLogLikelihood(lam, y))\n",
    "print(poissonNegLogLikelihood(lam2, y2))\n",
    "print(poissonNegLogLikelihood(-1, y2))\n",
    "\n",
    "print(poissonNegLogLikelihood(lam3, y3))"
   ]
  },
  {
   "cell_type": "markdown",
   "metadata": {},
   "source": [
    "The output when the element lam is set to 0 or a negative number is nan. \n",
    "In python nan represents not a real number \n",
    "Nan stands for not a number. This is because log(lam) is bounded by x = 0.\n",
    "\n",
    "As lam x approaches 0, log(lam) approaches negative inf. \n",
    "Lam can only exist in the positive real domain"
   ]
  },
  {
   "cell_type": "markdown",
   "metadata": {},
   "source": [
    "### Question 2: /3 Mark(s)\n",
    "\n",
    "Write a function called `poissonRegressionNegLogLikelihood` that takes as arguments a vector $\\mathbf{y}$ of counts, a design matrix $\\mathbf{X}$ of features for each count, and a vector $\\mathbf{\\beta}$ of parameters. The function should return the negative log likelihood of this dataset, assuming that each element of  $\\mathbf{y}$ is independent and Poisson distributed with parameter $\\lambda = \\exp(\\mathbf{X}\\beta)$.\n",
    "\n",
    "Hint: You can use `poissonNegLogLikelihood` in this answer!\n",
    "Test your function by calling it with \n",
    "* `b=np.array([1,2])`\n",
    "* `X=np.array([[1,2,3],[2,3,1]]).T`\n",
    "* `y=np.array([0,2,10])`\n"
   ]
  },
  {
   "cell_type": "code",
   "execution_count": 749,
   "metadata": {
    "pycharm": {
     "is_executing": false
    }
   },
   "outputs": [
    {
     "data": {
      "text/plain": "3227.581865000517"
     },
     "metadata": {},
     "output_type": "execute_result",
     "execution_count": 749
    }
   ],
   "source": [
    "def poissonRegressionNegLogLikelihood(b, X, y):\n",
    "    #Enter the expression for lambda as shown above!\n",
    "    lam = np.exp(X.dot(b))\n",
    "           \n",
    "    # Use poissonNegLogLikelihood to compute the likelihood\n",
    "    neg_log_lik = poissonNegLogLikelihood(lam ,y)\n",
    "    return neg_log_lik\n",
    "\n",
    "b = np.array([1,2])\n",
    "X = np.array([[1,2,3],[2,3,1]]).T\n",
    "y = np.array([0,2,10])\n",
    "\n",
    "poissonRegressionNegLogLikelihood(b, X, y)"
   ]
  },
  {
   "cell_type": "markdown",
   "metadata": {},
   "source": [
    "### Question 3: /2 Mark(s)\n",
    "\n",
    "a) In `poissonRegressionNegLogLikelihood`, why did we apply the exponential function to $\\mathbf{X}\\beta$?  Hint: Can an exponential ever be negative?\n",
    "\n",
    "b) What might have happened had we just passed $\\lambda = \\mathbf{X}\\beta$?\n",
    "\n",
    "Answer parts a) and b) below in this cell.  Write no more than 2 sentences per answer! "
   ]
  },
  {
   "cell_type": "markdown",
   "source": [
    "A) \n",
    "\n",
    "Using the exp() will never give a neg lam. \n",
    "This is important since allows use to calculate the proper negative log likelihood for a Poisson random variable every time.\n",
    "\n",
    "B)\n",
    "\n",
    "Using $\\lambda = \\mathbf{X}\\beta$ can result in a negative result. \n",
    "A negative result will not allow us to calculate the negative log likelihood for a Poisson random variable."
   ],
   "metadata": {
    "collapsed": false
   }
  },
  {
   "cell_type": "markdown",
   "metadata": {},
   "source": [
    "### Question 4: /1 Mark(s)\n",
    "\n",
    "Write a function called `modelPrediction` which accepts as its first argument a vector of coefficents $\\beta$ and a design matrix $\\mathbf{X}$.  The function should return predictions of the form $\\widehat{\\mathbf{y}} = \\exp(\\mathbf{X}\\beta)$. \n",
    "\n",
    "Hint: Numpy implements the exponential using `np.exp`.  \n",
    "\n",
    "Test your function by calling it with \n",
    "* `b=np.array([1,2])`\n",
    "* `X=np.array([[1,2,3],[2,3,1]]).T`"
   ]
  },
  {
   "cell_type": "code",
   "execution_count": 750,
   "metadata": {
    "pycharm": {
     "is_executing": false
    }
   },
   "outputs": [
    {
     "data": {
      "text/plain": "array([ 148.4131591 , 2980.95798704,  148.4131591 ])"
     },
     "metadata": {},
     "output_type": "execute_result",
     "execution_count": 750
    }
   ],
   "source": [
    "def modelPrediction(b,X):\n",
    "    yhat = np.exp((X.dot(b)))\n",
    "    return yhat\n",
    "\n",
    "b=np.array([1,2])\n",
    "X=np.array([[1,2,3],[2,3,1]]).T\n",
    "\n",
    "modelPrediction(b, X)"
   ]
  },
  {
   "cell_type": "markdown",
   "metadata": {},
   "source": [
    "### Question 5: /3 Mark(s)\n",
    "\n",
    "Write a function called `fitModel` which accepts as its first argument argument a design matrix $\\mathbf{X}$ and as its second argument a vector of outcomes counts $\\mathbf{y}$. The function should return the maximum likelihood estimates for the coefficients of a Poisson regression of $\\mathbf{y}$ onto $\\mathbf{X}$.\n",
    "\n",
    "Test your function by calling it with \n",
    "* `X=np.array([[1,2,3],[2,3,1]]).T`\n",
    "* `y=np.array([0,2,10])`\n",
    "\n",
    "What is your estimated b? "
   ]
  },
  {
   "cell_type": "code",
   "execution_count": 751,
   "metadata": {
    "pycharm": {
     "is_executing": false
    }
   },
   "outputs": [
    {
     "data": {
      "text/plain": "array([ 0.94827557, -0.52953521])"
     },
     "metadata": {},
     "output_type": "execute_result",
     "execution_count": 751
    }
   ],
   "source": [
    "def fitModel(X,y):\n",
    "\n",
    "    # Instantiate a guess for the betas, beta_start, so that the optimizer has somewhere to start\n",
    "    \n",
    "    # Keep in mind what shape the beta_start should be. It shoud have the same number of elements as X as columns\n",
    "    beta_start = np.zeros(X.shape[1])\n",
    "    \n",
    "    # Minimize the appropriate likelihood function\n",
    "    mle = poissonRegressionNegLogLikelihood\n",
    "    # Extract the maximum likelihood estimates from the optimizer.\n",
    "    betas = minimize(mle, beta_start, args=(X, y), method='Powell', tol = 1e-8)\n",
    "    return betas.x\n",
    "\n",
    "X=np.array([[1,2,3],[2,3,1]]).T\n",
    "y=np.array([0,2,10])\n",
    "\n",
    "fitModel(X,y)"
   ]
  },
  {
   "cell_type": "markdown",
   "metadata": {},
   "source": [
    "### Question 6: /4 Mark(s)\n",
    "\n",
    "Load in the data from `poisson_regression_data.csv`. Plot a scatterplot of the data. Fit a poisson regression to this data using the functions you wrote above.  Plot the model predictions over $x \\in [-2,2]$ on the same graph as the scatterplot of the data.  "
   ]
  },
  {
   "cell_type": "code",
   "execution_count": 752,
   "metadata": {
    "pycharm": {
     "is_executing": false
    }
   },
   "outputs": [
    {
     "name": "stdout",
     "text": [
      "[1.14105162]\n"
     ],
     "output_type": "stream"
    },
    {
     "data": {
      "text/plain": "<Figure size 720x480 with 1 Axes>",
      "image/png": "[encoded data removed]"
     },
     "metadata": {
      "needs_background": "light"
     },
     "output_type": "display_data"
    }
   ],
   "source": [
    "# Loading in the data.  \n",
    "df = pd.read_csv('poisson_regression_data.csv')\n",
    "fig, ax = plt.subplots(dpi = 120)\n",
    "\n",
    "\n",
    "# Fit the model.  You can use your functions.  \n",
    "x = df.x.values\n",
    "X = x.reshape(x.shape[0], 1)\n",
    "y= df.y.values\n",
    "\n",
    "# Scatter the data. \n",
    "ax.scatter(x,y,alpha=0.8)\n",
    "\n",
    "# Find the maximum likelihood estimates for the coefficients for this data\n",
    "betas = fitModel(X, y)\n",
    "print(betas)\n",
    "# Make predictions on new data\n",
    "newx = np.linspace(-2,2,1001)\n",
    "newX = newx.reshape(newx.shape[0], 1)\n",
    "\n",
    "# Make predictions on the new data\n",
    "y_predicted = modelPrediction(betas, newX)\n",
    "\n",
    "#Finally, plot the predictions on the same axis and color the predictions red\n",
    "ax.plot(newx, y_predicted, color = \"red\")\n",
    "plt.show()\n"
   ]
  },
  {
   "cell_type": "markdown",
   "metadata": {},
   "source": [
    "### Question 7:  /4 Mark(s)\n",
    "\n",
    "Now apply linear regression (ordinary least squares) to the data, obtain parameter estimates and plot the predictions over the same range.  Feel free to use `statsmodels` to fit the linear regression."
   ]
  },
  {
   "cell_type": "code",
   "execution_count": 753,
   "metadata": {
    "pycharm": {
     "is_executing": false
    }
   },
   "outputs": [
    {
     "data": {
      "text/plain": "[<matplotlib.lines.Line2D at 0x18e320d0>]"
     },
     "metadata": {},
     "output_type": "execute_result",
     "execution_count": 753
    },
    {
     "data": {
      "text/plain": "<Figure size 720x480 with 1 Axes>",
      "image/png": "[encoded data removed]"
     },
     "metadata": {
      "needs_background": "light"
     },
     "output_type": "display_data"
    }
   ],
   "source": [
    "\n",
    "# Read in the data\n",
    "df = pd.read_csv('poisson_regression_data.csv')\n",
    "# Instantiate the model\n",
    "model = sm.ols('y~x', data=df).fit()\n",
    "\n",
    "# Fit the model.  Remember, in statsmodels this happens in a different step!\n",
    "# You can use either the formula or the functionl API here \n",
    "\n",
    "\n",
    "# Make predictions over the range -2 to 2\n",
    "x_line = np.linspace(-2,2,1001)\n",
    "graph = pd.DataFrame({'x':x_line})\n",
    "y_predicted = model.predict(graph).values\n",
    "\n",
    "\n",
    "# Plot a scatter plot of the data and your model's predictions\n",
    "fig, ax = plt.subplots(dpi = 120)\n",
    "ax.scatter(x,y, alpha=0.8)\n",
    "ax.plot(x_line, y_predicted, color = \"red\")\n"
   ]
  },
  {
   "cell_type": "markdown",
   "metadata": {},
   "source": [
    "### Question 8: /1 Mark(s)\n",
    "\n",
    "a) Do you see any major problems with the predictions from linear regression? Keep in mind that this model is intended to model counts of things. Provide your answer below in markdown in fewer than 5 sentences."
   ]
  },
  {
   "cell_type": "markdown",
   "source": [
    "A)\n",
    "\n",
    "The poisson distribution is a discrete probability distribution often used to describe count-based data.\n",
    "It is impossible for a negative counts to occur. \n",
    "Thus, this makes the linear model cannot be used to predict values when x is less than -0.75. \n",
    "The model in question 6 more closely fits the data."
   ],
   "metadata": {
    "collapsed": false
   }
  },
  {
   "cell_type": "markdown",
   "source": [
    "### Unit Testing \n"
   ],
   "metadata": {
    "collapsed": false
   }
  },
  {
   "cell_type": "code",
   "execution_count": 754,
   "outputs": [
    {
     "name": "stdout",
     "text": [
      "5.5\n"
     ],
     "output_type": "stream"
    },
    {
     "name": "stderr",
     "text": [
      "c:\\users\\owner\\appdata\\local\\programs\\python\\python37-32\\lib\\site-packages\\ipykernel_launcher.py:6: RuntimeWarning: divide by zero encountered in log\n  \nc:\\users\\owner\\appdata\\local\\programs\\python\\python37-32\\lib\\site-packages\\ipykernel_launcher.py:6: RuntimeWarning: invalid value encountered in double_scalars\n  \n"
     ],
     "output_type": "stream"
    }
   ],
   "source": [
    "from scipy.stats import poisson\n",
    "import pytest\n",
    "\n",
    "class TestPublicTests:\n",
    "\n",
    "    \"\"\"\n",
    "    You can verify your code is working by running these tests.\n",
    "    \"\"\"\n",
    "\n",
    "    def test_poissonNegLogLikelihood_returns_float(self):\n",
    "        # Your function should return a float, not an array\n",
    "        assert isinstance(poissonNegLogLikelihood(1.0, 1.0), float)\n",
    "\n",
    "    def test_poissonNegLogLikelihood_returns_nan(self):\n",
    "        # Your function should return NAN when I pass lam=0, y=0\n",
    "        assert np.isnan(poissonNegLogLikelihood(0, 0))\n",
    "\n",
    "    def test_poissonNegLogLikelihood_returns_inf(self):\n",
    "        # Your function should return inf when I pass lam=0, y=1\n",
    "        assert np.isinf(poissonNegLogLikelihood(0, 1))\n",
    "\n",
    "    def test_poissonNegLogLikelihood_values(self):\n",
    "        # Here are some test cases for your function.\n",
    "        # If you pass all of these, that is good evidence that your function is working.\n",
    "        pll_test_1 = poissonNegLogLikelihood(2.0, np.array([1.0]))\n",
    "        # Test 1\n",
    "        assert np.isclose(pll_test_1, 1.30, rtol=1e-2)\n",
    "\n",
    "    def test_poissonNegLogLikelihood_values2(self):\n",
    "        pll_test_2 = poissonNegLogLikelihood(5.5, 0)\n",
    "        print(pll_test_2)\n",
    "        # Test 2\n",
    "        assert pll_test_2 == 5.5\n",
    "\n",
    "    def test_poissonNegLogLikelihood_values3(self):\n",
    "        pll_test_3 = poissonNegLogLikelihood(np.arange(1, 4), np.arange(1, 4))\n",
    "        # Test 3\n",
    "        assert np.isclose(pll_test_3, 3.8, rtol=1e-2)\n",
    "\n",
    "    def test_poissonNegLogLikelihood_values4(self):\n",
    "\n",
    "        pll_test_4 = poissonNegLogLikelihood(np.ones(2), np.ones(2))\n",
    "        # Test 4\n",
    "        assert np.isclose(pll_test_4, 2.0, rtol=1e-2)\n",
    "\n",
    "    def test_poissonNegLogLikelihood_values5(self):\n",
    "        # Test 5\n",
    "        with pytest.raises(ValueError):\n",
    "            # Should not compute when lam and y are different sizes\n",
    "            poissonNegLogLikelihood(np.ones(2), np.ones(3))\n",
    "\n",
    "    def test_poissonRegressionLogLikelihood(self):\n",
    "\n",
    "        # Your answer should be a float\n",
    "        n,p = 10,1\n",
    "        x = np.random.normal(size=(n,p))\n",
    "        x[:,0] = 1\n",
    "        y = poisson.rvs(mu=2.0)\n",
    "        b = np.zeros(p)\n",
    "        prll_test_1 = poissonRegressionNegLogLikelihood(b, x, y)\n",
    "\n",
    "        # Test 1\n",
    "        assert isinstance(prll_test_1, float)\n",
    "\n",
    "    def test_fitPoissonRegression(self):\n",
    "        # This data has no relationship between x and y\n",
    "        n, p = 20, 3\n",
    "        X = np.random.normal(size=(n, p))\n",
    "        X[:,0] = 1\n",
    "        y = poisson.rvs(mu=2.0, size=n)\n",
    "        betas = fitModel(X, y)\n",
    "\n",
    "        # Test 1\n",
    "        assert isinstance(betas, np.ndarray)\n",
    "\n",
    "\n",
    "test = TestPublicTests()\n",
    "poissonNegLogLikelihood(1.0, 1.0)\n",
    "test.test_fitPoissonRegression()\n",
    "test.test_poissonNegLogLikelihood_returns_float()\n",
    "test.test_poissonNegLogLikelihood_returns_inf()\n",
    "test.test_poissonNegLogLikelihood_returns_nan()\n",
    "\n",
    "test.test_poissonNegLogLikelihood_values()\n",
    "test.test_poissonNegLogLikelihood_values2()\n",
    "test.test_poissonNegLogLikelihood_values3()\n",
    "test.test_poissonNegLogLikelihood_values4()\n",
    "test.test_poissonNegLogLikelihood_values5()"
   ],
   "metadata": {
    "collapsed": false,
    "pycharm": {
     "name": "#%%\n",
     "is_executing": false
    }
   }
  },
  {
   "cell_type": "markdown",
   "metadata": {},
   "source": [
    "### Follow These Instructions\n",
    "\n",
    "Once you are finished, ensure to complete the following steps.\n",
    "\n",
    "1.  Restart your kernel by clicking 'Kernel' > 'Restart & Run All'.\n",
    "\n",
    "2.  Fix any errors which result from this.\n",
    "\n",
    "3.  Repeat steps 1. and 2. until your notebook runs without errors.\n",
    "\n",
    "4.  Submit your completed notebook to OWL by the deadline."
   ]
  }
 ],
 "metadata": {
  "kernelspec": {
   "display_name": "Python 3",
   "language": "python",
   "name": "python3"
  },
  "language_info": {
   "codemirror_mode": {
    "name": "ipython",
    "version": 3
   },
   "file_extension": ".py",
   "mimetype": "text/x-python",
   "name": "python",
   "nbconvert_exporter": "python",
   "pygments_lexer": "ipython3",
   "version": "3.7.4"
  },
  "pycharm": {
   "stem_cell": {
    "cell_type": "raw",
    "source": [],
    "metadata": {
     "collapsed": false
    }
   }
  }
 },
 "nbformat": 4,
 "nbformat_minor": 4
}
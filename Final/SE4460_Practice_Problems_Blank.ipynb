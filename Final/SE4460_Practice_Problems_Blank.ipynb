{
 "cells": [
  {
   "cell_type": "code",
   "execution_count": null,
   "metadata": {
    "id": "iTWGlXwa0IPH"
   },
   "outputs": [],
   "source": [
    "#you will be using the sklearn boston housing dataset\n",
    "#https://scikit-learn.org/stable/modules/generated/sklearn.datasets.load_boston.html\n",
    "#the load_boston function has already been imported for you\n",
    "from sklearn.datasets import load_boston"
   ]
  },
  {
   "cell_type": "code",
   "execution_count": null,
   "metadata": {
    "id": "Pby-eqOS0IVt"
   },
   "outputs": [],
   "source": [
    "#The following are practice problems in preparation for your final exam.\n",
    "#State any assumptions you find necessary\n",
    "#Use appropriate metrics and results to support your claims\n",
    "#Answer all questions thouroughly with enough supporting evidence\n",
    "#Import all necessary packages we have studied during the course\n",
    "# Note: Neural Nets must be implemented using pytorch"
   ]
  },
  {
   "cell_type": "code",
   "execution_count": null,
   "metadata": {
    "id": "oBs2jtJO0IY7"
   },
   "outputs": [],
   "source": [
    "##DATA PREP\n",
    "# import data\n",
    "# initial exploratory analysis\n",
    "# data types, feature composition, statistics, target variable"
   ]
  },
  {
   "cell_type": "code",
   "execution_count": null,
   "metadata": {
    "id": "-eaL_YCL0IgI"
   },
   "outputs": [],
   "source": [
    "##LINEAR MODELS\n",
    "# model 1 - linear regression\n",
    "# model 2 - linear regresssion polynomial features\n",
    "# model 3 - linear regression scaling and polynomial features\n",
    "#comment on the training error of each model"
   ]
  },
  {
   "cell_type": "code",
   "execution_count": null,
   "metadata": {
    "id": "xGz-0RaJ0Ii-"
   },
   "outputs": [],
   "source": [
    "##BOOTSTRAP AND CI\n",
    "# select the model with the best training metric score and create a confidence interval (using boostrapping) for the generalization metric score\n",
    "#how does the generalization metric score compare to the training metric score? What do these results suggest?"
   ]
  },
  {
   "cell_type": "code",
   "execution_count": null,
   "metadata": {
    "id": "Pnvg6Shx0ImK"
   },
   "outputs": [],
   "source": [
    "#REGULARIZATION\n",
    "# use ridge or lasso regression on to improve the generalization of your model. Comment on the performance and feature importance as you increase the regularization coefficient. "
   ]
  },
  {
   "cell_type": "code",
   "execution_count": null,
   "metadata": {
    "id": "pNBh6_tR0pEU"
   },
   "outputs": [],
   "source": [
    "#TREE-BASED ALGORITHMS\n",
    "# use cv for your analysis\n",
    "# implement a decision tree on the original, unprocessed data and a second tree on the scaled data. \n",
    "# comment on the  performance of the two trees and explain any observable differences.\n",
    "# impelement a random forest. Are the results obtained better or worse than those seen using a single decision tree. \n",
    "# Describe the differences between bagging and boosting trees. Implement one of these methods.\n",
    "# Compare the results of tree-based models to the linear regression - based models you have created above."
   ]
  },
  {
   "cell_type": "code",
   "execution_count": null,
   "metadata": {
    "id": "6z3iPrsY0vmY"
   },
   "outputs": [],
   "source": [
    "#NEURAL NETWORKS\n",
    "# Implement a shallow neural network model. Is it able to capture the relationship between features and outputs?\n",
    "# Implement a deep neural network. Is it able to capture the relationship between features and outputs? \n",
    "# Comment on a hyperparameter you believe is affecting the training process. Create an experiment to test your hypothesis."
   ]
  },
  {
   "cell_type": "code",
   "execution_count": null,
   "metadata": {
    "id": "VyaBz8dn0zSi"
   },
   "outputs": [],
   "source": [
    "#DIMENSIONALITY REDUCTION\n",
    "# Use PCA to perform dimensionality reduction\n",
    "# What is the ideal number of principal components (explain using a method described in class)"
   ]
  },
  {
   "cell_type": "code",
   "execution_count": null,
   "metadata": {
    "id": "wWQa3DiR111H"
   },
   "outputs": [],
   "source": [
    "#BONUS: CLASSIFICATION\n",
    "#convert the regression problem to a classification problem by thresholding the output using the mean\n",
    "#re-implement the tree-based, and neural network algorithms and comment on the results"
   ]
  }
 ],
 "metadata": {
  "colab": {
   "name": "SE4460_Practice_Problems_Blank.ipynb",
   "provenance": []
  },
  "kernelspec": {
   "display_name": "Python 3",
   "language": "python",
   "name": "python3"
  },
  "language_info": {
   "codemirror_mode": {
    "name": "ipython",
    "version": 3
   },
   "file_extension": ".py",
   "mimetype": "text/x-python",
   "name": "python",
   "nbconvert_exporter": "python",
   "pygments_lexer": "ipython3",
   "version": "3.7.4"
  }
 },
 "nbformat": 4,
 "nbformat_minor": 1
}
